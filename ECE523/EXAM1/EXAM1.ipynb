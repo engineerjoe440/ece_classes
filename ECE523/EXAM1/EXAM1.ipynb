{
 "cells": [
  {
   "cell_type": "markdown",
   "metadata": {},
   "source": [
    "# Joe Stanley\n",
    "### ECE523 - EXAM1"
   ]
  },
  {
   "cell_type": "code",
   "execution_count": 1,
   "metadata": {},
   "outputs": [],
   "source": [
    "# Import Necessary Libraries\n",
    "import numpy as np\n",
    "import matplotlib.pyplot as plt\n",
    "from tabulate import tabulate as tab\n",
    "import electricpy as ep\n",
    "from electricpy.constants import *"
   ]
  },
  {
   "attachments": {},
   "cell_type": "markdown",
   "metadata": {},
   "source": [
    "![P-1-1.png](P-1-1.png)\n",
    "\n",
    "![P-1-2.png](P-1-2.png)"
   ]
  },
  {
   "cell_type": "markdown",
   "metadata": {},
   "source": [
    "### Solution:\n",
    "\n",
    "***a)***\n",
    "For loads described only by their positive sequence impedance, it is common to assume the negative sequence impedance as equal (and opposite where applicable in transformer phase shifts) to the positive sequence impedance, and it is also common to assume the zero sequence impedance as three times the positive sequence. That is to say: $$Z_2 \\approx Z_1 \\qquad Z_0 \\approx 3\\cdot Z_1$$ For fault analysis, short-circuit MVA or short-circuit current are also valuable pieces of information. Power flow information could be calculated at a steady-state value for unfaulted conditions using the positive sequence impedance to evaluate the power-flow results and treating the \"load\" as an infinite bus whose voltage magnitude and angle was fixed.\n",
    "\n",
    "***b)***\n",
    "Treating the load as constant impedance load would ultimately remove the fixation of voltage magnitude and angle for the \"load\", however, it would largely leave the impedance relationships unchanged.\n",
    "\n",
    "***c)***\n",
    "Treating the load as a constant current load may allow the assumption that the load's impedance will not affect the fault analysis, and that the fault studies may be conducted with impedance matrices that do not include the \"load\". The \"load\" current may not be neglected, however. Instead, the load current (being fixed) would be added to the fault current and any other relational power flow currents in much the same way that power-flow currents are treated in textbook-fault studies.\n",
    "\n",
    "***d)***\n",
    "To fully account for a fixed power (or constant power) load, the solution method of solution should incorporate sequence component fault analysis prior to a power-flow calculation that includes the fictitious fault bus, accounting for the power consumption for the fault. This will allow for proper accounting of both the fault currents and the constant power currents, which will (inevitably) be affected by the fault's impact on bus voltages.\n",
    "\n",
    "***e)***\n",
    "To account for a load that incorporates 40% constant power consumption, 40% constant current consumption, and 20% constant impedance would require decomposing the single load into three discrete \"component\" loads that represent each type of load characteristic. This would allow the composition of the various methods previously described to effectively represent the system."
   ]
  },
  {
   "attachments": {},
   "cell_type": "markdown",
   "metadata": {},
   "source": [
    "![P-2-1.png](P-2-1.png)\n",
    "\n",
    "![P-2-2.png](P-2-2.png)"
   ]
  },
  {
   "cell_type": "code",
   "execution_count": 2,
   "metadata": {},
   "outputs": [
    {
     "name": "stdout",
     "output_type": "stream",
     "text": [
      "Z-Bus, All On-Line\n",
      "\n",
      "Positive Sequence Z-Bus:\n",
      "╒═════════════════╤═════════════════╤═════════════════╕\n",
      "│ (0.003+0.129j)  │ (-0+0.069j)     │ (-0.002+0.045j) │\n",
      "├─────────────────┼─────────────────┼─────────────────┤\n",
      "│ (-0+0.069j)     │ (0.002+0.111j)  │ (-0.002+0.044j) │\n",
      "├─────────────────┼─────────────────┼─────────────────┤\n",
      "│ (-0.002+0.045j) │ (-0.002+0.044j) │ (0.003+0.126j)  │\n",
      "╘═════════════════╧═════════════════╧═════════════════╛\n",
      "\n",
      "Negative Sequence Z-Bus:\n",
      "╒═════════════════╤═════════════════╤═════════════════╕\n",
      "│ (0.003+0.129j)  │ (-0+0.069j)     │ (-0.002+0.045j) │\n",
      "├─────────────────┼─────────────────┼─────────────────┤\n",
      "│ (-0+0.069j)     │ (0.002+0.111j)  │ (-0.002+0.044j) │\n",
      "├─────────────────┼─────────────────┼─────────────────┤\n",
      "│ (-0.002+0.045j) │ (-0.002+0.044j) │ (0.003+0.126j)  │\n",
      "╘═════════════════╧═════════════════╧═════════════════╛\n",
      "\n",
      "Zero Sequence Z-Bus:\n",
      "╒═════════════════╤═════════════════╤═════════════════╕\n",
      "│ (0.005+0.205j)  │ (-0.004+0.081j) │ (-0.003+0.06j)  │\n",
      "├─────────────────┼─────────────────┼─────────────────┤\n",
      "│ (-0.004+0.081j) │ (0.006+0.218j)  │ (-0.003+0.074j) │\n",
      "├─────────────────┼─────────────────┼─────────────────┤\n",
      "│ (-0.003+0.06j)  │ (-0.003+0.074j) │ (0.014+0.411j)  │\n",
      "╘═════════════════╧═════════════════╧═════════════════╛\n"
     ]
    }
   ],
   "source": [
    "# Define Per-Unit Terms\n",
    "Sbase = 100*M\n",
    "VbaseT = 230*k\n",
    "VbaseG = 24*k\n",
    "ZbaseT = ep.zpu(Sbase,VLL=VbaseT)\n",
    "ZbaseG = ep.zpu(Sbase,VLL=VbaseG)\n",
    "IbaseT = ep.ipu(Sbase,VLL=VbaseT)\n",
    "IbaseG = ep.ipu(Sbase,VLL=VbaseG)\n",
    "\n",
    "# Define Sequence Impedances\n",
    "ZS11 = 0.1J\n",
    "ZS10 = 0.1J\n",
    "XFM1 = 0.2J\n",
    "XFM0 = 0.2J\n",
    "ZS21 = 0.2J\n",
    "ZS20 = 0.35J\n",
    "ZS31 = 0.2J\n",
    "ZS30 = 0.7J\n",
    "ZL11 = 0.01+0.15J\n",
    "ZL10 = 0.06+0.5J\n",
    "ZL21 = 0.05+0.5J\n",
    "ZL20 = 0.20+2.0J\n",
    "ZL31 = 0.02+0.2J\n",
    "ZL30 = 0.07+0.7J\n",
    "ZL41 = 0.02+0.2J\n",
    "ZL40 = 0.07+0.7J    \n",
    "\n",
    "# Define Function to Provide Impedance Matrices\n",
    "def zmatrix(ZL1=True,ZL2=True,ZL3=True,ZL4=True,S2=True,S3=True,verbose=False):\n",
    "    # Define Pos/Neg Seq Y-Bus Matrix\n",
    "    y12 = np.array([\n",
    "        [1/(ZS11+XFM1)+int(ZL1)/ZL11+int(ZL2)/ZL21, -int(ZL1)/ZL11, -int(ZL2)/ZL21],\n",
    "        [-int(ZL1)/ZL11, int(ZL1)/ZL11+1/(int(ZL3)*ZL31+int(ZL4)*ZL41)+int(S2)/ZS21, -1/(int(ZL3)*ZL31+int(ZL4)*ZL41)],\n",
    "        [-int(ZL2)/ZL21, -1/(int(ZL3)*ZL31+int(ZL4)*ZL41), int(ZL2)/ZL21+1/(int(ZL3)*ZL31+int(ZL4)*ZL41)+int(S3)/ZS31],\n",
    "    ])\n",
    "    # Define Zero Seq Y-Bus Matrix\n",
    "    y0 = np.array([\n",
    "        [1/(ZS10+XFM0)+int(ZL1)/ZL10+int(ZL2)/ZL20, -int(ZL1)/ZL10, -int(ZL2)/ZL20],\n",
    "        [-int(ZL1)/ZL10, int(ZL1)/ZL10+1/(int(ZL3)*ZL30+int(ZL4)*ZL40)+int(S2)/ZS20, -1/(int(ZL3)*ZL30+int(ZL4)*ZL40)],\n",
    "        [-int(ZL2)/ZL20, -1/(int(ZL3)*ZL30+int(ZL4)*ZL40), int(ZL2)/ZL20+1/(int(ZL3)*ZL30+int(ZL4)*ZL40)+int(S3)/ZS30],\n",
    "    ])\n",
    "    # Calculate Z-Bus Matrices\n",
    "    zbus1 = np.linalg.inv(y12)\n",
    "    zbus2 = np.linalg.inv(y12)\n",
    "    zbus0 = np.linalg.inv(y0)\n",
    "    # Print if Necessary\n",
    "    if verbose:\n",
    "        print(\"\\nPositive Sequence Z-Bus:\\n\",tab(np.asarray(np.around(zbus1,3),dtype=str),tablefmt=\"fancy_grid\"),sep='')\n",
    "        print(\"\\nNegative Sequence Z-Bus:\\n\",tab(np.asarray(np.around(zbus2,3),dtype=str),tablefmt=\"fancy_grid\"),sep='')\n",
    "        print(\"\\nZero Sequence Z-Bus:\\n\",tab(np.asarray(np.around(zbus0,3),dtype=str),tablefmt=\"fancy_grid\"),sep='')\n",
    "    # Return Results\n",
    "    return(zbus1,zbus2,zbus0)\n",
    "\n",
    "# Demonstrate Validity\n",
    "print(\"Z-Bus, All On-Line\")\n",
    "x = zmatrix(verbose=True)"
   ]
  },
  {
   "cell_type": "code",
   "execution_count": 4,
   "metadata": {},
   "outputs": [
    {
     "name": "stdout",
     "output_type": "stream",
     "text": [
      "Help on function phs3mvasc in module electricpy.fault:\n",
      "\n",
      "phs3mvasc(Vth, Zseq, Rf=0, Sbase=1)\n",
      "    Three-Phase MVA Short-Circuit Calculator\n",
      "    \n",
      "    Calculator to evaluate the Short-Circuit MVA of a three-phase fault given the system\n",
      "    parameters of Vth, Zseq, and an optional Rf. Uses the formula as follows:\n",
      "    \n",
      "    .. math:: MVA_{sc} = \\frac{\\left|V_{th}**2\\right|}{|Z_1|} * Sbase\n",
      "    \n",
      "    Parameters\n",
      "    ----------\n",
      "    Vth:        complex\n",
      "                The Thevenin-Equivalent-Voltage\n",
      "    Zseq:       list of complex\n",
      "                Tupple of sequence reactances as (Z0, Z1, Z2)\n",
      "    Rf:         complex, optional\n",
      "                The fault resistance, default=0\n",
      "    Sbase:      real, optional\n",
      "                The per-unit base for power. default=1\n",
      "    \n",
      "    Returns\n",
      "    -------\n",
      "    MVA:        real\n",
      "                Three-Phase Short-Circuit MVA.\n",
      "\n"
     ]
    }
   ],
   "source": [
    "help(ep.fault.phs3mvasc)"
   ]
  },
  {
   "cell_type": "code",
   "execution_count": null,
   "metadata": {},
   "outputs": [],
   "source": []
  }
 ],
 "metadata": {
  "kernelspec": {
   "display_name": "Python 3",
   "language": "python",
   "name": "python3"
  },
  "language_info": {
   "codemirror_mode": {
    "name": "ipython",
    "version": 3
   },
   "file_extension": ".py",
   "mimetype": "text/x-python",
   "name": "python",
   "nbconvert_exporter": "python",
   "pygments_lexer": "ipython3",
   "version": "3.7.4"
  }
 },
 "nbformat": 4,
 "nbformat_minor": 2
}
