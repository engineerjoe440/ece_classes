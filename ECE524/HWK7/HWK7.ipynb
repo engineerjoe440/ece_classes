{
 "cells": [
  {
   "cell_type": "markdown",
   "metadata": {},
   "source": [
    "# Joe Stanley\n",
    "#### ECE 524 - HWK 7"
   ]
  },
  {
   "cell_type": "code",
   "execution_count": 1,
   "metadata": {},
   "outputs": [],
   "source": [
    "# Import Libraries\n",
    "import numpy as np\n",
    "import matplotlib.pyplot as plt\n",
    "import eepower as eep\n",
    "from eepower import p,n,u,m,k,M"
   ]
  },
  {
   "cell_type": "markdown",
   "metadata": {},
   "source": [
    "## Problem 1"
   ]
  },
  {
   "cell_type": "code",
   "execution_count": 55,
   "metadata": {},
   "outputs": [
    {
     "name": "stdout",
     "output_type": "stream",
     "text": [
      "Leakage: (0.008333333333333333+357.07500000000005j) Ω\n",
      "Worst Case Peak Fault Current: 966.1835746161103 A (High-Side)\n",
      "Worst Case Peak Fault Current: 4.830917873080551 kA (Low-Side)\n",
      "Angle of Inception: -89.9986628444 °\n",
      "\n",
      "Leakage Inductance: 947.170855076 mH\n",
      "Oscillation Frequency: 1888.31888658 Hz\n",
      "Oscillation T-cycle: 0.529571571362 msec\n",
      "Peak Voltage: 975.809971318 kV\n",
      "\n",
      "7.5nF 7.500000000000001e-06 uF\n"
     ]
    }
   ],
   "source": [
    "# Define givens\n",
    "Vsrc = 345*k #transformer is Y-G\n",
    "N = 345/69\n",
    "Srat = 100*M\n",
    "Xleak = 10/100\n",
    "XoR = 12\n",
    "Cphsgrnd = 7.5*n # HV side\n",
    "\n",
    "# A) \n",
    "Rloss = Xleak / XoR\n",
    "leak = Rloss+1j*Xleak * eep.zpu(S=Srat,VLN=Vsrc)\n",
    "print(\"Leakage:\",leak,\"Ω\")\n",
    "Imax = Vsrc / leak\n",
    "print(\"Worst Case Peak Fault Current:\",abs(Imax),\"A (High-Side)\")\n",
    "print(\"Worst Case Peak Fault Current:\",abs(Imax/k)*N,\"kA (Low-Side)\")\n",
    "print(\"Angle of Inception:\",np.degrees(np.angle(Imax)),\"°\\n\")\n",
    "\n",
    "# B)\n",
    "Lleak = eep.reactance(Xleak * eep.zpu(S=Srat,VLN=Vsrc))\n",
    "print(\"Leakage Inductance:\",Lleak/m,\"mH\")\n",
    "oscfreq = eep.fault.natfreq(C=Cphsgrnd,L=Lleak)\n",
    "print(\"Oscillation Frequency:\",oscfreq,\"Hz\")\n",
    "print(\"Oscillation T-cycle:\",(1/oscfreq)/m,\"msec\")\n",
    "pkV = eep.fault.pktransrecvolt(Cphsgrnd,Lleak,VLN=Vsrc)[0]\n",
    "print(\"Peak Voltage:\",pkV/k,\"kV\\n\")\n",
    "\n",
    "print(\"7.5nF\",Cphsgrnd*u/n,\"uF\")"
   ]
  },
  {
   "cell_type": "markdown",
   "metadata": {},
   "source": [
    "## Problem 2"
   ]
  },
  {
   "cell_type": "code",
   "execution_count": 50,
   "metadata": {
    "scrolled": false
   },
   "outputs": [
    {
     "name": "stdout",
     "output_type": "stream",
     "text": [
      "ZH: 0.09989999999999999j Ω-pu\n",
      "ZX: -0.005299999999999971j Ω-pu\n",
      "ZY: 0.3237j Ω-pu\n",
      "H-Winding Inductance: 730.3869018085658 mH\n",
      "X-Winding Inductance: 0.8581411766990243 mH\n",
      "Y-Winding Inductance: 3.406657842088726 mH\n",
      "Magnetizing Resistance: 300000.0 Ω\n"
     ]
    }
   ],
   "source": [
    "# Define givens\n",
    "Srat = 300*M\n",
    "ZHX = 9.46j/100   # 300 MVA\n",
    "ZHY = 4.236j/100  # 30 MVA\n",
    "ZXY = 3.184j/100  # 30 MVA\n",
    "ExLoss = 918.75*k\n",
    "ExI = 2.56\n",
    "\n",
    "# Convert to common base\n",
    "ZHX *= Srat/(300*M)\n",
    "ZHY *= Srat/(30*M)\n",
    "ZXY *= Srat/(30*M)\n",
    "\n",
    "# Find supportive components\n",
    "ZH = 0.5*(ZHX+ZHY-ZXY)\n",
    "ZX = 0.5*(ZHX+ZXY-ZHY)\n",
    "ZY = 0.5*(ZHY+ZXY-ZHX)\n",
    "print(\"ZH:\",ZH,\"Ω-pu\")\n",
    "print(\"ZX:\",ZX,\"Ω-pu\")\n",
    "print(\"ZY:\",ZY,\"Ω-pu\")\n",
    "\n",
    "# Evaluate PU-Bases and Inductances\n",
    "ZH *= eep.zpu(S=Srat,VLN=525*k)\n",
    "ZX *= eep.zpu(S=Srat,VLN=241.5*k)\n",
    "ZY *= eep.zpu(S=Srat,VLL=34.5*k)\n",
    "LH = eep.reactance(ZH)\n",
    "LX = eep.reactance(ZX)\n",
    "LY = eep.reactance(ZY)\n",
    "print(\"H-Winding Inductance:\",LH/m,\"mH\")\n",
    "print(\"X-Winding Inductance:\",LX/m,\"mH\")\n",
    "print(\"Y-Winding Inductance:\",LY/m,\"mH\")\n",
    "\n",
    "# Evaluate Rm\n",
    "Rm = ((525*k)**2/ExLoss)\n",
    "print(\"Magnetizing Resistance:\",Rm,\"Ω\")"
   ]
  },
  {
   "cell_type": "code",
   "execution_count": null,
   "metadata": {},
   "outputs": [],
   "source": []
  },
  {
   "cell_type": "code",
   "execution_count": null,
   "metadata": {},
   "outputs": [],
   "source": []
  }
 ],
 "metadata": {
  "kernelspec": {
   "display_name": "Python 3",
   "language": "python",
   "name": "python3"
  },
  "language_info": {
   "codemirror_mode": {
    "name": "ipython",
    "version": 3
   },
   "file_extension": ".py",
   "mimetype": "text/x-python",
   "name": "python",
   "nbconvert_exporter": "python",
   "pygments_lexer": "ipython3",
   "version": "3.6.8"
  }
 },
 "nbformat": 4,
 "nbformat_minor": 2
}
