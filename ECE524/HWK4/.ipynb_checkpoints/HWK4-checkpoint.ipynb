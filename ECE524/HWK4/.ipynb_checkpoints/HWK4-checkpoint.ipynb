{
 "cells": [
  {
   "cell_type": "markdown",
   "metadata": {},
   "source": [
    "# Joe Stanley\n",
    "ECE524 - HWK4"
   ]
  },
  {
   "cell_type": "code",
   "execution_count": 17,
   "metadata": {},
   "outputs": [],
   "source": [
    "# Import Libraries\n",
    "import numpy as np\n",
    "import matplotlib.pyplot as plt\n",
    "from scipy.optimize import fsolve\n",
    "import eepower as eep\n",
    "from eepower import u,m,k,M"
   ]
  },
  {
   "cell_type": "code",
   "execution_count": 42,
   "metadata": {},
   "outputs": [],
   "source": [
    "# Define Function to Calculate TRV\n",
    "def pktransrecvolt(C,L,VLL=None,VLN=None,freq=60):\n",
    "    \"\"\"\n",
    "    pktransrecvolt Function\n",
    "    \n",
    "    Peak Transient Recovery Voltage calculation\n",
    "    function, evaluates the peak transient\n",
    "    recovery voltage and the RRRV.\n",
    "    \n",
    "    Parameters\n",
    "    ----------\n",
    "    C:          float\n",
    "                Capacitance Value in Farads.\n",
    "    L:          float\n",
    "                Inductance in Henries.\n",
    "    VLL:        float, exclusive\n",
    "                Line-to-Line voltage, exclusive\n",
    "                optional argument.\n",
    "    VLN:        float, exclusive\n",
    "                Line-to-Neutral voltage, exclusive\n",
    "                optional argument.\n",
    "    freq:       float, optional\n",
    "                System frequency in Hz.\n",
    "    \n",
    "    Returns\n",
    "    -------\n",
    "    Vcpk:       float\n",
    "                Peak Transient Recovery Voltage.\n",
    "    RRRV:       float\n",
    "                RRRV\n",
    "    \"\"\"\n",
    "    # Evaluate omega-n and fn\n",
    "    wn = 1/np.sqrt(L*C)\n",
    "    fn = wn/(2*np.pi)\n",
    "    # Evaluate Vm\n",
    "    if VLL!=None:\n",
    "        Vm = np.sqrt(2/3)*VLL\n",
    "    elif VLN!=None:\n",
    "        Vm = np.sqrt(2)*VLN\n",
    "    else:\n",
    "        raise ValueError(\"One or more voltages must be specified.\")\n",
    "    # Evaluate Vcpk (worst case)\n",
    "    Vcpk = wn**2/(wn**2-2*np.pi*freq)*Vm*2\n",
    "    # Evaluate RRRV\n",
    "    RRRV = 2*Vm*fn/0.5\n",
    "    return(Vcpk,RRRV)\n",
    "\n",
    "# Define TRV Reduction Resistor Function\n",
    "def trvresistor(C,L,reduction):\n",
    "    \"\"\"\n",
    "    trvresistor Function\n",
    "    \n",
    "    Function to find the resistor value that\n",
    "    will reduce the TRV by a specified\n",
    "    percentage.\n",
    "    \n",
    "    Parameters\n",
    "    ----------\n",
    "    C:          float\n",
    "                Capacitance Value in Farads.\n",
    "    L:          float\n",
    "                Inductance in Henries.\n",
    "    reduction:  float\n",
    "                The percentage that the TRV\n",
    "                should be reduced by.\n",
    "    \n",
    "    Returns\n",
    "    -------\n",
    "    Rd:         float\n",
    "                Damping resistor value, in ohms.\n",
    "    wd:         float\n",
    "                Omega-d\n",
    "    tpk:        float\n",
    "                Time of peak voltage.\n",
    "    \"\"\"\n",
    "    # Evaluate omega-n\n",
    "    wn = 1/np.sqrt(L*C)\n",
    "    # Generate Constant Factor\n",
    "    fctr = (1-reduction)*2 - 1\n",
    "    # Define Function Set\n",
    "    def equations(data):\n",
    "        Rd, wd, tpk = data\n",
    "        X = np.sqrt(wn**2-(1/(2*Rd*C))**2) - wd\n",
    "        Y = np.exp(-tpk/(2*Rd*C))-fctr\n",
    "        Z = wd*tpk - np.pi\n",
    "        return(X,Y,Z)\n",
    "    Rd, wd, tpk = fsolve(equations, (500,260*k,10*u))\n",
    "    return(Rd, wd, tpk)"
   ]
  },
  {
   "cell_type": "markdown",
   "metadata": {},
   "source": [
    "### Problem 1:\n",
    "Problem 8.6 in the text book. Assume that it is a 24 kV system. Simulate the circuit\n",
    "and find the peak TRV and RRRV. Also simulate a case where a TRV reduction resistance of 500\n",
    "ohms is utilized and is in the circuit for 1 cycle and provide the peak TRV and new RRRV. Measure\n",
    "or calculte the energy dissipated in the resistor in your transients program. Extra credit: solve\n",
    "analytically as well."
   ]
  },
  {
   "cell_type": "code",
   "execution_count": null,
   "metadata": {},
   "outputs": [],
   "source": []
  },
  {
   "cell_type": "markdown",
   "metadata": {},
   "source": [
    "### Problem 2:\n",
    "A 10 MVAR capacitor bank is connected on the secondary of a 25 MVA,\n",
    "230:13.2kV delta-wye grounded transformer with a per unit reactance of 6%. The short circuit\n",
    "rating of the connection back to the 230kV source is 18.5kA. Do the following:\n",
    "(a) Calculate the resonant frequency for this circuit if the capacitor bank is connected in delta\n",
    "(assume balanced 3 phase connection for now). Verify with a simulation model (it is easiest to do\n",
    "the simulation with dc sources that represent instantaneous values of a 3 phase set).\n",
    "(b) Repeat part (a) if it connected in wye. Verify with a simulation model.\n",
    "(c) Assuming that the capacitor bank is wye connected and grounded: suppose the system is\n",
    "operating in steady-state. Estimate the voltages trapped on each of the capacitors if the\n",
    "breakers connecting the capacitor to the bus open. Verify with a simulation model.\n",
    "(d) Repeat part (c) if the capacitor bank is connected in delta. Verify with a simulation model.\n",
    "(e) Repeat part (c) if the capacitor bank is Y connected with a neutral to ground capacitance of 100\n",
    "nF. Again, verify with simulations."
   ]
  },
  {
   "cell_type": "code",
   "execution_count": null,
   "metadata": {},
   "outputs": [],
   "source": []
  },
  {
   "cell_type": "markdown",
   "metadata": {},
   "source": [
    "### Problem 3:\n",
    "A 138kV winding on a 20MVA transformer has a leakage reactance of 0.25H and\n",
    "a phase to ground capacitance of 4000pF. The winding is connected Y-grounded. The\n",
    "transformer draws a magnetizing current of 3A RMS at a power factor (0.1 lagging) from the\n",
    "138kV source when the low voltage winding is open. Assume an ideal source on the power\n",
    "system side.\n",
    "I. Calculate the peak line to ground voltage across the winding and across the breaker contacts\n",
    "when the HV breaker is opened with the secondary already open if (a) the breaker clears at a\n",
    "natural current zero and (b) if the breaker chops an instantaneous current of 1.5 A. Simulate and\n",
    "compare results.\n",
    "II. Using simulation only, repeat with a source inductance of 150mH and a shunt capacitance of\n",
    "200pF on the source side of the breaker and comment on the differences. "
   ]
  },
  {
   "cell_type": "code",
   "execution_count": null,
   "metadata": {},
   "outputs": [],
   "source": []
  },
  {
   "cell_type": "code",
   "execution_count": 33,
   "metadata": {},
   "outputs": [
    {
     "data": {
      "text/plain": [
       "1.2"
      ]
     },
     "execution_count": 33,
     "metadata": {},
     "output_type": "execute_result"
    }
   ],
   "source": [
    "(1-0.4)*2"
   ]
  },
  {
   "cell_type": "code",
   "execution_count": null,
   "metadata": {},
   "outputs": [],
   "source": []
  }
 ],
 "metadata": {
  "kernelspec": {
   "display_name": "Python 3",
   "language": "python",
   "name": "python3"
  },
  "language_info": {
   "codemirror_mode": {
    "name": "ipython",
    "version": 3
   },
   "file_extension": ".py",
   "mimetype": "text/x-python",
   "name": "python",
   "nbconvert_exporter": "python",
   "pygments_lexer": "ipython3",
   "version": "3.6.8"
  }
 },
 "nbformat": 4,
 "nbformat_minor": 2
}
