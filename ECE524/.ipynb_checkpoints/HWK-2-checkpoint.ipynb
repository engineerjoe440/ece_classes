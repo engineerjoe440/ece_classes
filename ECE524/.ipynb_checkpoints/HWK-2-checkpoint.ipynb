{
 "cells": [
  {
   "cell_type": "markdown",
   "metadata": {},
   "source": [
    "# Joe Stanley\n",
    "### ECE 524 - HWK2\n",
    "\n",
    "Reduce the circuit to a simple RLC system."
   ]
  },
  {
   "cell_type": "code",
   "execution_count": 51,
   "metadata": {},
   "outputs": [],
   "source": [
    "# Import Necessary Libraries\n",
    "import numpy as np\n",
    "import matplotlib.pyplot as plt\n",
    "import eepower as eep\n",
    "from eepower import u, m, k, M"
   ]
  },
  {
   "cell_type": "code",
   "execution_count": 2,
   "metadata": {},
   "outputs": [],
   "source": [
    "# Define Givens\n",
    "\n",
    "# Per-Unit Bases\n",
    "Sbase = 30*M\n",
    "Vb1 = 138*k\n",
    "Vb2 = 13.8*k\n",
    "Vb3 = 4.16*k\n",
    "\n",
    "# Source\n",
    "S_src = 3500*M #VA\n",
    "XR_src = 15 #unitless\n",
    "V_src = 138*k #V\n",
    "\n",
    "# Transformer(s)\n",
    "S_xfm = 30*M #VA\n",
    "Z_xfm = 7.5/100 #pu\n",
    "XR_xfm = 18.6 #unitless\n",
    "V_busA = 13.8*k #V\n",
    "\n",
    "# Generator\n",
    "S_gen = 35.3*M #VA\n",
    "Xdv_gen = 10/100 #pu\n",
    "XR_gen = 48 #unitless\n",
    "\n",
    "# Motor Load (each motor)\n",
    "P_mot = 30000 #hp\n",
    "Xd_mot = 16.7/100 #pu\n",
    "XR_mot = 10 #unitless\n",
    "pf_mot = 0.8 #lagging\n",
    "\n",
    "# Cap Bank\n",
    "S_cap = 10*M #VAr\n",
    "\n",
    "# Load Transformer\n",
    "S_xfm_ld = 5*M #VA\n",
    "Z_xfm_ld = 5.5/100 #pu\n",
    "XR_xfm_ld = 7 #unitless\n",
    "V_ld = 4.16*k #V"
   ]
  },
  {
   "cell_type": "code",
   "execution_count": 14,
   "metadata": {},
   "outputs": [],
   "source": [
    "# Define Formulas, Algorithms, and Functions\n",
    "\n",
    "# Define Impedance From Power and X/R\n",
    "def zsource(S,V,XoverR,Sbase=None,Vbase=None):\n",
    "    \"\"\"\n",
    "    zsource Function\n",
    "    \n",
    "    Used to calculate the source impedance given the apparent power\n",
    "    magnitude and the X/R ratio.\n",
    "    \n",
    "    Parameters\n",
    "    ----------\n",
    "    S:          float\n",
    "                The (rated) apparent power magnitude of the source.\n",
    "                This may also be refferred to as the \"Short-Circuit MVA\"\n",
    "    V:          float\n",
    "                The (rated) voltage of the source terminals.\n",
    "    XoverR:     float\n",
    "                The X/R ratio rated for the source.\n",
    "    Sbase:      float, optional\n",
    "                The per-unit base for the apparent power. If set to\n",
    "                None, will automatically force Sbase to equal S.\n",
    "                If set to True will treat S as the per-unit value.\n",
    "    Vbase:      float, optional\n",
    "                The per-unit base for the terminal voltage. If set to\n",
    "                None, will automaticlaly force Vbase to equal V. If\n",
    "                set to True, will treat V as the per-unit value.\n",
    "    \n",
    "    Returns\n",
    "    -------\n",
    "    Zsource_pu: complex\n",
    "                The per-unit evaluation of the source impedance.\n",
    "    \"\"\"\n",
    "    # Force Sbase and Vbase if needed\n",
    "    if Vbase == None:\n",
    "        Vbase = V\n",
    "    if Sbase == None:\n",
    "        Sbase = S\n",
    "    # Prevent scaling if per-unit already applied\n",
    "    if Vbase == True:\n",
    "        Vbase = 1\n",
    "    if Sbase == True:\n",
    "        Sbase = 1\n",
    "    # Set to per-unit\n",
    "    Spu = S/Sbase\n",
    "    Vpu = V/Vbase\n",
    "    # Evaluate Zsource Magnitude\n",
    "    Zsource_pu = Vpu**2/Spu\n",
    "    # Evaluate the angle\n",
    "    nu = np.degrees(np.arctan(XoverR))\n",
    "    Zsource_pu = eep.phasor(Zsource_pu, nu)\n",
    "    return(Zsource_pu)\n",
    "\n",
    "# Define Impedance Decomposer\n",
    "def zdecompose(Zmag,XoverR):\n",
    "    \"\"\"\n",
    "    zdecompose Function\n",
    "    \n",
    "    A function to decompose the impedance magnitude into its\n",
    "    corresponding resistance and reactance using the X/R ratio.\n",
    "    \n",
    "    It is possible to \"neglect\" R, or make it a very small number;\n",
    "    this is done by setting the X/R ratio to a very large number\n",
    "    (X being much larger than R).\n",
    "    \n",
    "    Parameters\n",
    "    ----------\n",
    "    Zmag:       float\n",
    "                The magnitude of the impedance.\n",
    "    XoverR:     float\n",
    "                The X/R ratio.\n",
    "    \n",
    "    Returns\n",
    "    -------\n",
    "    R:          float\n",
    "                The resistance (in ohms)\n",
    "    X:          float\n",
    "                The reactance (in ohms)\n",
    "    \"\"\"\n",
    "    # Evaluate Resistance\n",
    "    R = Zmag/np.sqrt(XoverR**2+1)\n",
    "    # Evaluate Reactance\n",
    "    X = R * XoverR\n",
    "    # Return\n",
    "    return(R,X)\n",
    "\n",
    "# Define HP to Watts Calculation\n",
    "def watts(hp):\n",
    "    \"\"\"\n",
    "    watts Formula\n",
    "    \n",
    "    Calculates the power (in watts) given the\n",
    "    horsepower.\n",
    "    \n",
    "    Parameters\n",
    "    ----------\n",
    "    hp:         float\n",
    "                The horspower to compute.\n",
    "    \n",
    "    Returns\n",
    "    watts:      float\n",
    "                The power in watts.\n",
    "    \"\"\"\n",
    "    return(hp * 745.699872)\n",
    "\n",
    "# Define Apparent Power to Farad Conversion\n",
    "def farads(VAR,V,freq=60):\n",
    "    \"\"\"\n",
    "    farads Formula\n",
    "    \n",
    "    Function to calculate the required capacitance\n",
    "    in Farads to provide the desired power rating\n",
    "    (VARs).\n",
    "    \n",
    "    Parameters\n",
    "    ----------\n",
    "    VAR:        float\n",
    "                The rated power to meet.\n",
    "    V:          float\n",
    "                The voltage across the capacitor;\n",
    "                not described as VLL or VLN, merely\n",
    "                the capacitor voltage.\n",
    "    freq:       float, optional\n",
    "                The System frequency\n",
    "    \n",
    "    Returns\n",
    "    -------\n",
    "    C:          float\n",
    "                The evaluated capacitance (in Farads).\n",
    "    \"\"\"\n",
    "    return(VAR / (2*np.pi*freq*V**2))"
   ]
  },
  {
   "cell_type": "code",
   "execution_count": 15,
   "metadata": {},
   "outputs": [
    {
     "name": "stdout",
     "output_type": "stream",
     "text": [
      "Source Impedance: (0.0006+0.0086j) pu-ohms\n",
      "Generator Impedance: (0.0018+0.085j) pu-ohms\n",
      "Transformer Impedance: (0.004+0.0749j) pu-ohms\n"
     ]
    }
   ],
   "source": [
    "# Evaluate Impedance Terms\n",
    "\n",
    "# Source\n",
    "Zsrc_pu = zsource(S_src,V_src,XR_src,Sbase,Vb1)\n",
    "#Zsrc_pu = eep.convert(Zsrc_pu,eep.zpu(3500*M,VLL=138*k),eep.zpu(30*M,VLL=13.8*k))\n",
    "print(\"Source Impedance:\",np.around(Zsrc_pu,4),\"pu-ohms\")\n",
    "\n",
    "# Generator\n",
    "Rgen = Xdv_gen/XR_gen\n",
    "Zgen = Rgen + 1j*Xdv_gen\n",
    "Zgen = eep.convert(Zgen,eep.zpu(35.3*M,VLL=13.8*k),eep.zpu(30*M,VLL=13.8*k))\n",
    "print(\"Generator Impedance:\",np.around(Zgen,4),\"pu-ohms\")\n",
    "\n",
    "# Transformer\n",
    "Rxfm,Xxfm = zdecompose(Z_xfm,XR_xfm)\n",
    "Zxfm = Rxfm + 1j*Xxfm\n",
    "print(\"Transformer Impedance:\",np.around(Zxfm,4),\"pu-ohms\")"
   ]
  },
  {
   "cell_type": "code",
   "execution_count": 29,
   "metadata": {},
   "outputs": [
    {
     "name": "stdout",
     "output_type": "stream",
     "text": [
      "Thevenin RLC: (0.00828798310752+0.189509201181j) ohms\n",
      "Thevenin RLC: (0.0082879831075199639, 0.00050316927478757543) (ohms, henrys)\n",
      "Thevenin LC: 0.189509201181 ohms\n",
      "Thevenin LC: 0.000502688768822 henrys\n"
     ]
    }
   ],
   "source": [
    "# Combine impedances into Zeq\n",
    "#         Parallel(       Parallel( Trans1, Trans2)+Source, Generator )\n",
    "Zeq_pu = eep.parallelz((eep.parallelz((Zxfm,Zxfm))+Zsrc_pu,Zgen))\n",
    "\n",
    "# Return to actual impedance (in ohms)\n",
    "Zbase = eep.zpu(Sbase,Vb2)\n",
    "Zeq = Zeq_pu*Zbase\n",
    "print(\"Thevenin RLC:\",Zeq,\"ohms\")\n",
    "print(\"Thevenin RLC:\",eep.reactance(Zeq),\"(ohms, henrys)\")\n",
    "\n",
    "# Demonstrate LC system, Neglecting R\n",
    "print(\"Thevenin LC:\",Zeq.imag,\"ohms\")\n",
    "print(\"Thevenin LC:\",eep.reactance(Zeq.imag*1j),\"henrys\")"
   ]
  },
  {
   "cell_type": "code",
   "execution_count": 17,
   "metadata": {},
   "outputs": [
    {
     "name": "stdout",
     "output_type": "stream",
     "text": [
      "Motor Apparent Power: 27.963745199999998 MVA\n",
      "Motor Impedance: (0.0167+0.16699999999999998j) pu-ohms\n",
      "Motor Current: 2.0263583478260867 kA\n"
     ]
    }
   ],
   "source": [
    "# Evaluate Motor Systems\n",
    "\n",
    "# Find wattage of motor\n",
    "P_mtr = watts(P_mot)\n",
    "S_mtr = P_mtr/pf_mot\n",
    "Q_mtr = np.sqrt(S_mtr**2 - P_mtr**2)\n",
    "print(\"Motor Apparent Power:\",S_mtr/M,\"MVA\")\n",
    "\n",
    "# Find Impedance\n",
    "Rmtr = Xd_mot/XR_mot\n",
    "Zmtr = Rmtr + 1j*Xd_mot\n",
    "print(\"Motor Impedance:\",Zmtr,\"pu-ohms\")\n",
    "\n",
    "# Calculate Current Magnitude\n",
    "Imag_mtr = S_mtr/Vb2\n",
    "print(\"Motor Current:\",Imag_mtr/k,\"kA\")"
   ]
  },
  {
   "cell_type": "code",
   "execution_count": 24,
   "metadata": {},
   "outputs": [
    {
     "name": "stdout",
     "output_type": "stream",
     "text": [
      "Cap-Bank Value: 202.6838200275287 micro-Farads\n"
     ]
    }
   ],
   "source": [
    "# Determine Capacitance in Farads\n",
    "print(\"Cap-Bank Value:\",farads(10.188*k,400,50)*1e6,\"micro-Farads\")"
   ]
  },
  {
   "cell_type": "code",
   "execution_count": 53,
   "metadata": {},
   "outputs": [
    {
     "data": {
      "image/png": "[encoded data removed]",
      "text/plain": [
       "<matplotlib.figure.Figure at 0x19a4f03c208>"
      ]
     },
     "metadata": {
      "needs_background": "light"
     },
     "output_type": "display_data"
    }
   ],
   "source": [
    "# Load Data from File for Part A\n",
    "data = np.genfromtxt(\"HWK2/PartA_data.ADF\",delimiter='\\t',skip_header=2,usecols=(0,1,2),unpack=True)\n",
    "t_arr, LC_V, RLC_V = data\n",
    "\n",
    "# Plot Data\n",
    "plt.plot(t_arr,LC_V,label=\"LC-Voltage\")\n",
    "plt.plot(t_arr,RLC_V,label=\"RLC-Voltage\")\n",
    "plt.legend()\n",
    "plt.show()"
   ]
  },
  {
   "cell_type": "code",
   "execution_count": null,
   "metadata": {},
   "outputs": [],
   "source": []
  },
  {
   "cell_type": "code",
   "execution_count": null,
   "metadata": {},
   "outputs": [],
   "source": []
  }
 ],
 "metadata": {
  "kernelspec": {
   "display_name": "Python 3",
   "language": "python",
   "name": "python3"
  },
  "language_info": {
   "codemirror_mode": {
    "name": "ipython",
    "version": 3
   },
   "file_extension": ".py",
   "mimetype": "text/x-python",
   "name": "python",
   "nbconvert_exporter": "python",
   "pygments_lexer": "ipython3",
   "version": "3.6.8"
  }
 },
 "nbformat": 4,
 "nbformat_minor": 2
}
