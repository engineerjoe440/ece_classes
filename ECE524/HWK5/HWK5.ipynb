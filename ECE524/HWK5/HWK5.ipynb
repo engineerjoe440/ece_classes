{
 "cells": [
  {
   "cell_type": "markdown",
   "metadata": {},
   "source": [
    "# Joe Stanley\n",
    "### ECE 524 - HWK 5"
   ]
  },
  {
   "cell_type": "code",
   "execution_count": 1,
   "metadata": {},
   "outputs": [],
   "source": [
    "# Import Libraries\n",
    "import numpy as np\n",
    "import matplotlib.pyplot as plt\n",
    "import eepower as eep\n",
    "from eepower import p,n,u,m,k,M"
   ]
  },
  {
   "cell_type": "markdown",
   "metadata": {},
   "source": [
    "You are given the R', L' and C' matrices for a 200 km, 500 kV transmission line. Do the\n",
    "following.\n",
    "\n",
    "(a) Compute the steady-state per phase charging current if the receiving end is open-circuited\n",
    "and the sending end is connected to an ideal source. Assume balanced, steady-state\n",
    "operation and use the appropriate line model.\n",
    "\n",
    "(b) Compute the modal R, L, and C parameters along with the modal characteristic\n",
    "impedances, propagation velocities and travel time using the Clark transformation (since the\n",
    "matrices given below show that the line is transposed). Assume resistances are divided as in\n",
    "the EMTP model (1/4 of total R lumped at each and and 1/2 in the middle of the line).\n",
    "\n",
    "(c) Suppose the line is energized with phase A closed at the voltage peak (assumed balanced\n",
    "three phase). Calculate the initial current on each of the three phases.\n",
    "\n",
    "(d) Estimate the peak voltages seen at the receiving end for the energization of part (c) if the\n",
    "receiving end is open circuited.\n",
    "\n",
    "(e) Calculate the resistance value for a preinsertion resistor for this line.\n",
    "\n",
    "(f) Implement this line in your transients program as a Bergeron line model. Run cases to\n",
    "determine the requested values for parts (a), (c), and (d). Also simulate a case with your\n",
    "preinsertion resistance from part (e)."
   ]
  },
  {
   "cell_type": "code",
   "execution_count": 3,
   "metadata": {},
   "outputs": [],
   "source": [
    "# Define Matricies\n",
    "Rprime = np.array([[0.2917,0.1667,0.1667],\n",
    "                   [0.1667,0.2917,0.1667],\n",
    "                   [0.1667,0.1667,0.2917]]) #ohm/km\n",
    "Lprime = np.array([[1.67,0.83,0.83],\n",
    "                   [0.83,1.67,0.83],\n",
    "                   [0.83,0.83,1.67]])*m #H/km\n",
    "Cprime = np.array([[11.5,-2.0,-2.0],\n",
    "                   [-2.0,11.5,-2.0],\n",
    "                   [-2.0,-2.0,11.5]])*n #F/km"
   ]
  },
  {
   "cell_type": "code",
   "execution_count": null,
   "metadata": {},
   "outputs": [],
   "source": []
  }
 ],
 "metadata": {
  "kernelspec": {
   "display_name": "Python 3",
   "language": "python",
   "name": "python3"
  },
  "language_info": {
   "codemirror_mode": {
    "name": "ipython",
    "version": 3
   },
   "file_extension": ".py",
   "mimetype": "text/x-python",
   "name": "python",
   "nbconvert_exporter": "python",
   "pygments_lexer": "ipython3",
   "version": "3.6.8"
  }
 },
 "nbformat": 4,
 "nbformat_minor": 2
}
