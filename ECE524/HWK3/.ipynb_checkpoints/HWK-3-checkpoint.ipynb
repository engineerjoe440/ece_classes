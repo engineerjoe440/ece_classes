{
 "cells": [
  {
   "cell_type": "markdown",
   "metadata": {},
   "source": [
    "# Joe Stanley\n",
    "### ECE 524 - HWK 3"
   ]
  },
  {
   "cell_type": "code",
   "execution_count": 1,
   "metadata": {},
   "outputs": [],
   "source": [
    "# Import Necessary Libraries\n",
    "import numpy as np\n",
    "import matplotlib.pyplot as plt\n",
    "import eepower as eep\n",
    "from eepower import u, m, k, M"
   ]
  },
  {
   "cell_type": "code",
   "execution_count": 2,
   "metadata": {},
   "outputs": [],
   "source": [
    "# Define Givens\n",
    "\n",
    "# Per-Unit Bases\n",
    "Sbase = 30*M\n",
    "Vb1 = 138*k\n",
    "Vb2 = 13.8*k\n",
    "Vb3 = 4.16*k\n",
    "\n",
    "# Source\n",
    "S_src = 3500*M #VA\n",
    "XR_src = 15 #unitless\n",
    "V_src = 138*k #V\n",
    "Z_src = (0.0005701629473466338+0.008552444210199505j) # per-unit (from prev. assignment)\n",
    "\n",
    "# Transformer(s)\n",
    "S_xfm = 30*M #VA\n",
    "Z_xfm = 7.5/100 #pu\n",
    "XR_xfm = 18.6 #unitless\n",
    "V_busA = 13.8*k #V\n",
    "Z_xfm = (0.00402644303154544+0.07489184038674519j) # per-unit (from prev. assignment)\n",
    "\n",
    "# Generator\n",
    "S_gen = 35.3*M #VA\n",
    "Xdv_gen = 10/100 #pu\n",
    "XR_gen = 48 #unitless\n",
    "Z_gen = (0.0017705382436260624+0.08498583569405099j) # per-unit (from prev. assignment)\n",
    "\n",
    "# Motor Load (each motor)\n",
    "P_mot = 30000 #hp\n",
    "Xd_mot = 16.7/100 #pu\n",
    "XR_mot = 10 #unitless\n",
    "pf_mot = 0.8 #lagging\n",
    "\n",
    "# Cap Bank\n",
    "S_cap = 10*M #VAr\n",
    "\n",
    "# Load Transformer\n",
    "S_xfm_ld = 5*M #VA\n",
    "Z_xfm_ld = 5.5/100 #pu\n",
    "XR_xfm_ld = 7 #unitless\n",
    "V_ld = 4.16*k #V"
   ]
  },
  {
   "cell_type": "code",
   "execution_count": 22,
   "metadata": {},
   "outputs": [
    {
     "name": "stdout",
     "output_type": "stream",
     "text": [
      "0.00025071667153732727\n"
     ]
    }
   ],
   "source": [
    "C = eep.farads(6*M,13.8*k/np.sqrt(3))\n",
    "print(C)\n",
    "I,F = eep.capbacktoback(C1=C,C2=C,Lm=16*u,VLL=13.8*k)"
   ]
  },
  {
   "cell_type": "code",
   "execution_count": null,
   "metadata": {
    "scrolled": false
   },
   "outputs": [],
   "source": []
  },
  {
   "cell_type": "code",
   "execution_count": null,
   "metadata": {},
   "outputs": [],
   "source": []
  }
 ],
 "metadata": {
  "kernelspec": {
   "display_name": "Python 3",
   "language": "python",
   "name": "python3"
  },
  "language_info": {
   "codemirror_mode": {
    "name": "ipython",
    "version": 3
   },
   "file_extension": ".py",
   "mimetype": "text/x-python",
   "name": "python",
   "nbconvert_exporter": "python",
   "pygments_lexer": "ipython3",
   "version": "3.7.3"
  }
 },
 "nbformat": 4,
 "nbformat_minor": 2
}
