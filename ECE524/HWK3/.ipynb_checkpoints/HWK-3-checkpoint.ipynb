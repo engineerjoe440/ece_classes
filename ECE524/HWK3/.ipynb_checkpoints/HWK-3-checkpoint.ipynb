{
 "cells": [
  {
   "cell_type": "markdown",
   "metadata": {},
   "source": [
    "# Joe Stanley\n",
    "### ECE 524 - HWK 3"
   ]
  },
  {
   "cell_type": "code",
   "execution_count": 1,
   "metadata": {},
   "outputs": [],
   "source": [
    "# Import Necessary Libraries\n",
    "import numpy as np\n",
    "import matplotlib.pyplot as plt\n",
    "import eepower as eep\n",
    "from eepower import u, m, k, M"
   ]
  },
  {
   "cell_type": "code",
   "execution_count": 2,
   "metadata": {},
   "outputs": [],
   "source": [
    "# Define Givens\n",
    "\n",
    "# Per-Unit Bases\n",
    "Sbase = 30*M\n",
    "Vb1 = 138*k\n",
    "Vb2 = 13.8*k\n",
    "Vb3 = 4.16*k\n",
    "\n",
    "# Source\n",
    "S_src = 3500*M #VA\n",
    "XR_src = 15 #unitless\n",
    "V_src = 138*k #V\n",
    "Z_src = (0.0005701629473466338+0.008552444210199505j) # per-unit (from prev. assignment)\n",
    "\n",
    "# Transformer(s)\n",
    "S_xfm = 30*M #VA\n",
    "Z_xfm = 7.5/100 #pu\n",
    "XR_xfm = 18.6 #unitless\n",
    "V_busA = 13.8*k #V\n",
    "Z_xfm = (0.00402644303154544+0.07489184038674519j) # per-unit (from prev. assignment)\n",
    "\n",
    "# Generator\n",
    "S_gen = 35.3*M #VA\n",
    "Xdv_gen = 10/100 #pu\n",
    "XR_gen = 48 #unitless\n",
    "Z_gen = (0.0017705382436260624+0.08498583569405099j) # per-unit (from prev. assignment)\n",
    "\n",
    "# Motor Load (each motor)\n",
    "P_mot = 30000 #hp\n",
    "Xd_mot = 16.7/100 #pu\n",
    "XR_mot = 10 #unitless\n",
    "pf_mot = 0.8 #lagging\n",
    "\n",
    "# Cap Bank\n",
    "S_cap = 10*M #VAr\n",
    "\n",
    "# Load Transformer\n",
    "S_xfm_ld = 5*M #VA\n",
    "Z_xfm_ld = 5.5/100 #pu\n",
    "XR_xfm_ld = 7 #unitless\n",
    "V_ld = 4.16*k #V"
   ]
  },
  {
   "cell_type": "code",
   "execution_count": 13,
   "metadata": {},
   "outputs": [
    {
     "name": "stdout",
     "output_type": "stream",
     "text": [
      "40.114667445972366\n",
      "24332.9875341 9596.14794355\n"
     ]
    }
   ],
   "source": [
    "# Validate Formulas Prior to Solving Homework\n",
    "\n",
    "# Use Example provided in Lecture 14 Handout\n",
    "C1 = eep.farads(18*M,34.5*k)\n",
    "C2 = eep.farads(10*M,34.5*k)\n",
    "print(C*M)\n",
    "I,F = eep.capbacktoback(C1=C2,C2=C1,Lm=19.2*u,VLL=34.5*k)\n",
    "print(I,F)"
   ]
  },
  {
   "cell_type": "markdown",
   "metadata": {
    "scrolled": false
   },
   "source": [
    "## Problem 1 (text 6.3)\n",
    "Find inrush current and frequency."
   ]
  },
  {
   "cell_type": "code",
   "execution_count": 41,
   "metadata": {},
   "outputs": [
    {
     "name": "stdout",
     "output_type": "stream",
     "text": [
      "Sub-Bank Capacitance (C1/C2): 69.64351987147981 µF\n",
      "Inrush Current: 17.1677423121 kA\n",
      "Inrush Frequency: 6963.84576078 Hz\n"
     ]
    }
   ],
   "source": [
    "# Define Problem-Specifics\n",
    "C_sub = 5*M # VAR\n",
    "Lm = 15*u # H\n",
    "\n",
    "# Evaluate Capacitance (in Farads)\n",
    "Cf = eep.farads(C_sub,Vb2)\n",
    "print(\"Sub-Bank Capacitance (C1/C2):\",Cf*M,\"µF\")\n",
    "\n",
    "# Evaluate Inrush Current and Frequency\n",
    "Iin, Fin = eep.capbacktoback(Cf,Cf,Lm,VLL=Vb2)\n",
    "print(\"Inrush Current:\",Iin/k,\"kA\")\n",
    "print(\"Inrush Frequency:\",Fin,\"Hz\")"
   ]
  },
  {
   "cell_type": "markdown",
   "metadata": {},
   "source": [
    "## Problem 2 (text 6.4)\n",
    "Evaluate what Lm must be to reduce the inrush current to 15kA, and to reduce the frequency to 2000Hz."
   ]
  },
  {
   "cell_type": "code",
   "execution_count": 42,
   "metadata": {},
   "outputs": [
    {
     "name": "stdout",
     "output_type": "stream",
     "text": [
      "Required Inductance (Lm): 19.648999999994878 µH\n",
      "Resultant Inrush Current: 14.9999077837 kA\n",
      "Required Inductance (Lm): 0.18185699999950347 mH\n",
      "Resultant Inrush Frequency: 1999.99892319 Hz\n"
     ]
    }
   ],
   "source": [
    "# Specify Test Step-Size\n",
    "step = 0.001*u\n",
    "\n",
    "# Iteratively solve for current requirement\n",
    "Ldesired = Lm # Start with Lm\n",
    "while True:\n",
    "    # Solve for inrush current\n",
    "    Iin, x = eep.capbacktoback(Cf,Cf,Ldesired,VLL=Vb2)\n",
    "    # Test for completion\n",
    "    if Iin <= 15*k:\n",
    "        break # Found result\n",
    "    # Increment Inductance\n",
    "    Ldesired += step\n",
    "print(\"Required Inductance (Lm):\",Ldesired/u,\"µH\")\n",
    "print(\"Resultant Inrush Current:\",Iin/k,\"kA\")\n",
    "\n",
    "# Iteratively solve for frequency requirement\n",
    "Ldesired = Lm # Start with Lm\n",
    "while True:\n",
    "    # Solve for inrush current\n",
    "    x, F = eep.capbacktoback(Cf,Cf,Ldesired,VLL=Vb2)\n",
    "    # Test for completion\n",
    "    if F <= 2000:\n",
    "        break # Found result\n",
    "    # Increment Inductance\n",
    "    Ldesired += step\n",
    "print(\"Required Inductance (Lm):\",Ldesired/m,\"mH\")\n",
    "print(\"Resultant Inrush Frequency:\",F,\"Hz\")"
   ]
  },
  {
   "cell_type": "markdown",
   "metadata": {},
   "source": [
    "## Problem 3 (text 6.5)\n",
    "Find the particular resistance for circuits (both open and closed bus-tie-breaker)."
   ]
  },
  {
   "cell_type": "code",
   "execution_count": 44,
   "metadata": {},
   "outputs": [
    {
     "name": "stdout",
     "output_type": "stream",
     "text": [
      "Capacitance: 139.28703974295962 µF\n",
      "CB-Closed R: 4.51450630692 Ω\n",
      "CB-Closed R: 3.80129608469 Ω\n"
     ]
    }
   ],
   "source": [
    "# Define Critically Damped Formula (from Lecture 12 Notes)\n",
    "def critdamp(L,C):\n",
    "    R = np.sqrt(1/(L*C))*2*L\n",
    "    return(R)\n",
    "\n",
    "# Define C - Delta-Cap-Bank\n",
    "C = eep.farads(10*M,13.8*k)\n",
    "print(\"Capacitance:\",C/u,\"µF\")\n",
    "\n",
    "# Define L (Breaker Open)\n",
    "L = 0.0007096941825782752 # H (from HWK2)\n",
    "# Evaluate R\n",
    "R = critdamp(L,C)\n",
    "print(\"CB-Closed R:\",R,\"Ω\")\n",
    "\n",
    "# Define L (Breaker Closed)\n",
    "L = 0.0005031692747875754 # H (from HWK2)\n",
    "# Evaluate R\n",
    "R = critdamp(L,C)\n",
    "print(\"CB-Closed R:\",R,\"Ω\")"
   ]
  },
  {
   "cell_type": "code",
   "execution_count": null,
   "metadata": {},
   "outputs": [],
   "source": []
  }
 ],
 "metadata": {
  "kernelspec": {
   "display_name": "Python 3",
   "language": "python",
   "name": "python3"
  },
  "language_info": {
   "codemirror_mode": {
    "name": "ipython",
    "version": 3
   },
   "file_extension": ".py",
   "mimetype": "text/x-python",
   "name": "python",
   "nbconvert_exporter": "python",
   "pygments_lexer": "ipython3",
   "version": "3.6.8"
  }
 },
 "nbformat": 4,
 "nbformat_minor": 2
}
