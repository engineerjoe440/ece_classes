{
 "cells": [
  {
   "cell_type": "markdown",
   "metadata": {},
   "source": [
    "# Joe Stanley\n",
    "#### ECE 524 - HWK 6 Calculations"
   ]
  },
  {
   "cell_type": "code",
   "execution_count": 1,
   "metadata": {
    "scrolled": false
   },
   "outputs": [],
   "source": [
    "# Import Libraries\n",
    "import numpy as np\n",
    "import matplotlib.pyplot as plt\n",
    "import eepower as eep\n",
    "from eepower import p,n,u,m,k,M"
   ]
  },
  {
   "cell_type": "code",
   "execution_count": 10,
   "metadata": {
    "scrolled": false
   },
   "outputs": [
    {
     "name": "stdout",
     "output_type": "stream",
     "text": [
      "353553.390593\n",
      "Source Impedance: (0.415227+4.982729j) Ω\tInductance: 13.2171 mH\n"
     ]
    }
   ],
   "source": [
    "# Part B\n",
    "\n",
    "# Evaluate Source Voltage (in RMS)\n",
    "print(500*k/np.sqrt(2))\n",
    "# Evaluate Source Impedance\n",
    "Zsrc = eep.zsource(50000*M,500*k,12,perunit=False)\n",
    "print(\"Source Impedance:\",np.round(Zsrc,6),\"Ω\\tInductance:\",np.round(eep.reactance(Zsrc.imag)/m,4),\"mH\")"
   ]
  },
  {
   "cell_type": "code",
   "execution_count": 23,
   "metadata": {},
   "outputs": [
    {
     "name": "stdout",
     "output_type": "stream",
     "text": [
      "Zero Sequence Impedance: (0.50728+1.70746j) Ω/mi\tCapacitance: 14.81733 nF\n",
      "Positive Sequence Impedance: (0.00813+0.51277j) Ω/mi\tCapacitance: 22.26234 nF\n",
      "Negative Sequence Impedance: (0.00813+0.51277j) Ω/mi\tCapacitance: 22.26234 nF\n",
      "Positive Sequence Charging Current: 363.414694392 A\n"
     ]
    }
   ],
   "source": [
    "# Part C\n",
    "\n",
    "# Define Trans. Line Charging Current Calculation\n",
    "def transcharge(length,C=None,Dab=0,Dbc=0,Dca=0,radius=0,\n",
    "                VLN=None,VLL=None,freq=60):\n",
    "    \"\"\"\n",
    "    transcharge Function\n",
    "    \n",
    "    Evaluates the charging current necessary to charge\n",
    "    a three-phase transmission system characterized by\n",
    "    the capacitance (C) or equivalently, the distances\n",
    "    between each of the conductors and the radius of\n",
    "    the conductors along with line length and voltage.\n",
    "    \n",
    "    Parameters\n",
    "    ----------\n",
    "    length:     float\n",
    "                The line length in miles.\n",
    "    C:          float, optional\n",
    "                Shunt capacitance in Farads, optionally\n",
    "                may be ignored if Dab, Dbc, Dca, and\n",
    "                radius are set appropriately.\n",
    "    Dab:        float, optional\n",
    "                Distance from conductor A to B in feet.\n",
    "    Dbc:        float, optional\n",
    "                Distance from conductor B to C in feet.\n",
    "    Dca:        float, optional\n",
    "                Distance from conductor C to A in feet.\n",
    "    radius:     float, optional\n",
    "                Conductor cable radius in inches.\n",
    "    VLN:        float, optional\n",
    "                Line-to-Neutral voltage magnitude\n",
    "    VLL:        float, optional\n",
    "                Line-to-Line voltage magnitude\n",
    "    freq:       float, optional\n",
    "                System frequency in Hz, default=60\n",
    "    \n",
    "    Returns\n",
    "    -------\n",
    "    I:          float\n",
    "                Charging current in amps per phase.\n",
    "    \"\"\"\n",
    "    # Condition Inputs\n",
    "    w = 2*np.pi*freq\n",
    "    if C == None:\n",
    "        DEQ = (Dab*Dbc*Dca)**(-1/3)\n",
    "        C = 0.0388/(np.log10(DEQ/(radius/12)))\n",
    "    if VLN != None:\n",
    "        V = VLN\n",
    "    if VLL != None:\n",
    "        V = VLL/np.sqrt(3)\n",
    "    # Calculate\n",
    "    I = w*C*length*V\n",
    "    return(I)\n",
    "\n",
    "# Define C/L Calculator\n",
    "def CL(v,Z):\n",
    "    C = 1/(v*Z)\n",
    "    L = C*Z**2\n",
    "    return(C,L)\n",
    "\n",
    "# From ATP HWK6.lib File --- C:\\ProgramData\\ATP\\Atpdraw\\ATP\\HWK6.lib\n",
    "# KARD  3  3  4  4  5  5\n",
    "# KARG  1  4  2  5  3  6\n",
    "# KBEG  3  9  3  9  3  9\n",
    "# KEND  8 14  8 14  8 14\n",
    "# KTEX  1  1  1  1  1  1\n",
    "# /BRANCH\n",
    "# $VINTAGE, 1                                                                      \n",
    "# -1IN___AOUT__A             5.07282E-01 5.52872E+02 1.22069E+05 1.50000E+02 1   \n",
    "# -2IN___BOUT__B             8.13006E-03 2.47178E+02 1.81727E+05 1.50000E+02 1   \n",
    "# -3IN___COUT__C                                                                 \n",
    "# $VINTAGE, -1,                                                                    \n",
    "# $EOF\n",
    "# ARG, IN___A, IN___B, IN___C, OUT__A, OUT__B, OUT__C\n",
    "R0 = 5.07282E-01\n",
    "R1 = 8.13006E-03\n",
    "R2 = R1\n",
    "Zc0 = 5.52872E+02\n",
    "Zc1 = 2.47178E+02\n",
    "Zc2 = Zc1\n",
    "v0 = 1.22069E+05\n",
    "v1 = 1.81727E+05\n",
    "C0,L0 = CL(v0,Zc0)\n",
    "C1,L1 = CL(v1,Zc1)\n",
    "C2,L2 = C1,L1\n",
    "# Evaluate Sequence Impedances\n",
    "Z0 = R0 + eep.phasorz(L=L0)\n",
    "Z1 = R1 + eep.phasorz(L=L1)\n",
    "print(\"Zero Sequence Impedance:\",np.round(Z0,5),\"Ω/mi\\tCapacitance:\",round(C0/n,5),\"nF\")\n",
    "print(\"Positive Sequence Impedance:\",np.round(Z1,5),\"Ω/mi\\tCapacitance:\",round(C1/n,5),\"nF\")\n",
    "print(\"Negative Sequence Impedance:\",np.round(Z1,5),\"Ω/mi\\tCapacitance:\",round(C2/n,5),\"nF\")\n",
    "# Calculate Pos. Seq. Charging Current\n",
    "Ichg = transcharge(150,C1,VLL=500*k)\n",
    "print(\"Positive Sequence Charging Current:\",Ichg,\"A\")"
   ]
  },
  {
   "cell_type": "code",
   "execution_count": null,
   "metadata": {},
   "outputs": [],
   "source": []
  }
 ],
 "metadata": {
  "kernelspec": {
   "display_name": "Python 3",
   "language": "python",
   "name": "python3"
  },
  "language_info": {
   "codemirror_mode": {
    "name": "ipython",
    "version": 3
   },
   "file_extension": ".py",
   "mimetype": "text/x-python",
   "name": "python",
   "nbconvert_exporter": "python",
   "pygments_lexer": "ipython3",
   "version": "3.6.8"
  }
 },
 "nbformat": 4,
 "nbformat_minor": 2
}
