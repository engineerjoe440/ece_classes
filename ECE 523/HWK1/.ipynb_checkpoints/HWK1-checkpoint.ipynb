{
 "cells": [
  {
   "cell_type": "markdown",
   "metadata": {},
   "source": [
    "# Joe Stanley\n",
    "### ECE 523 - Homework 1"
   ]
  },
  {
   "cell_type": "code",
   "execution_count": 1,
   "metadata": {},
   "outputs": [],
   "source": [
    "# Import Required Libraries\n",
    "import numpy as np\n",
    "import matplotlib.pyplot as plt\n",
    "import electricpy as eep\n",
    "from electricpy.constants import *"
   ]
  },
  {
   "cell_type": "markdown",
   "metadata": {},
   "source": [
    "## Problem 1: (text 1.1)"
   ]
  },
  {
   "cell_type": "code",
   "execution_count": 2,
   "metadata": {
    "scrolled": false
   },
   "outputs": [
    {
     "name": "stdout",
     "output_type": "stream",
     "text": [
      "Z-Base: 1000.0 Ω\n",
      "Generator-X: 0.09999999999999999 pu-Ω\n",
      "Motor-X: 0.07 pu-Ω\n",
      "Transformer1-X: 0.08712 pu-Ω\n",
      "Transformer2-X: 0.08816666666666667 pu-Ω\n",
      "Line: (0.2+0.5j) pu-Ω\n"
     ]
    }
   ],
   "source": [
    "# Define Base Values\n",
    "Sbase = 10*M\n",
    "Vbase = 100*k # Line-Line\n",
    "Zbase = eep.zpu(Sbase,VLL=Vbase)\n",
    "print(\"Z-Base:\",Zbase,\"Ω\")\n",
    "\n",
    "# Evaluate Generator\n",
    "Sgen = 15*M\n",
    "Vgen = 13.8*k # Line-Line\n",
    "Xgen = 0.15 #pu-gen\n",
    "Xgen = eep.puchgbase(Xgen,eep.zpu(Sgen,VLL=Vgen),eep.zpu(Sbase,VLL=Vgen))\n",
    "print(\"Generator-X:\",Xgen,\"pu-Ω\")\n",
    "\n",
    "# Evaluate Motor\n",
    "Smot = 10*M\n",
    "Vmot = 12*k\n",
    "Xmot = 0.07 #pu-mot\n",
    "print(\"Motor-X:\",Xmot,\"pu-Ω\")\n",
    "\n",
    "# Evaluate Transformer 1\n",
    "Sxfm1 = 20*M\n",
    "Vxfm1 = 132*k\n",
    "Xxfm1 = 0.10 #pu-xfm1\n",
    "Xxfm1 = eep.puchgbase(Xxfm1,eep.zpu(Sxfm1,VLL=Vxfm1),Zbase)\n",
    "print(\"Transformer1-X:\",Xxfm1,\"pu-Ω\")\n",
    "\n",
    "# Evaluate Transformer 2\n",
    "Sxfm2 = 15*M\n",
    "Vxfm2 = 115*k\n",
    "Xxfm2 = 0.10 #pu-xfm2\n",
    "Xxfm2 = eep.puchgbase(Xxfm2,eep.zpu(Sxfm2,VLL=Vxfm2),Zbase)\n",
    "print(\"Transformer2-X:\",Xxfm2,\"pu-Ω\")\n",
    "\n",
    "# Evaluate Line\n",
    "Zline = 200 + 500j\n",
    "Zlin = Zline/Zbase\n",
    "print(\"Line:\",Zlin,\"pu-Ω\")"
   ]
  },
  {
   "cell_type": "markdown",
   "metadata": {},
   "source": [
    "## Problem 2:"
   ]
  },
  {
   "cell_type": "code",
   "execution_count": 8,
   "metadata": {},
   "outputs": [
    {
     "name": "stdout",
     "output_type": "stream",
     "text": [
      "Generator 1 impedance: 0.16394628099173555 pu-Ω\n",
      "Generator 1 voltage: 1.0454545454545454 pu-V\n",
      "\n",
      "Generator 2 impedance: 0.17851239669421487 pu-Ω\n",
      "Generator 2 voltage: 1.0909090909090908 pu-V\n",
      "\n",
      "Transformer 1 impedance: 0.10929752066115704 pu-Ω\n",
      "\n",
      "Transformer 2 impedance: 0.10929752066115704 pu-Ω\n",
      "\n",
      "Line 1 Impedance: (5.73921028466483+57.3921028466483j) pu-Ω\n",
      "Line 2 Impedance: (0.00010330578512396695+0.0010330578512396695j) pu-Ω\n",
      "Line 3 Impedance: (0.028696051423324154+0.28696051423324154j) pu-Ω\n",
      "Load Resistance: 7.744 pu-Ω\t Load Reactance: 15.989358987842673 pu-Ω\n"
     ]
    }
   ],
   "source": [
    "# Define Bases\n",
    "Sbase = 100*M\n",
    "Vbase2 = 220*k\n",
    "Vbase1 = Vbase2*13.8/230\n",
    "Zbase1 = eep.zpu(Sbase,VLL=Vbase1)\n",
    "Zbase2 = eep.zpu(Sbase,VLL=Vbase2)\n",
    "# Define Givens\n",
    "Sg1 = 50*M\n",
    "Vg1 = 13.8*k\n",
    "Xg1 = 15/100\n",
    "Sg2 = 25*M\n",
    "Vg2 = 14.4*k\n",
    "Xg2 = 15/100\n",
    "St1 = 60*M\n",
    "Vt1 = 230*k\n",
    "Xt1 = 10/100\n",
    "St2 = 30*M\n",
    "Vt2 = 230*k\n",
    "Xt2 = 10/100\n",
    "Zl1 = 10+100j\n",
    "Zl2 = 0.05+0.5j\n",
    "Zl3 = 0.05+0.5j\n",
    "Sld = 25*M\n",
    "PFl = 0.9\n",
    "\n",
    "# Define Simple Printing Function\n",
    "def pu_print(S,V,X,Vbs,label,printv=False):\n",
    "    Xpu = eep.puchgbase(X,eep.zpu(S,VLL=V),eep.zpu(S,VLL=Vbs))\n",
    "    Vpu = V/Vbs\n",
    "    print(label,\"impedance:\",Xpu,\"pu-Ω\")\n",
    "    if printv:\n",
    "        print(label,\"voltage:\",Vpu,\"pu-V\")\n",
    "    print()\n",
    "    return\n",
    "\n",
    "# Print Impedances and Voltages\n",
    "pu_print(Sg1,Vg1,Xg1,Vbase1,\"Generator 1\",True)\n",
    "pu_print(Sg2,Vg2,Xg2,Vbase1,\"Generator 2\",True)\n",
    "pu_print(St1,Vt1,Xt1,Vbase2,\"Transformer 1\")\n",
    "pu_print(St2,Vt2,Xt2,Vbase2,\"Transformer 2\")\n",
    "print(\"Line 1 Impedance:\",Zl1/Zbase1,\"pu-Ω\")\n",
    "print(\"Line 2 Impedance:\",Zl2/Zbase2,\"pu-Ω\")\n",
    "print(\"Line 3 Impedance:\",Zl3/Zbase1,\"pu-Ω\")\n",
    "R,X = eep.powerimpedance(Sld,Vbase1,PFl)\n",
    "print(\"Load Resistance:\",R,\"pu-Ω\\t Load Reactance:\",X,\"pu-Ω\")"
   ]
  },
  {
   "cell_type": "markdown",
   "metadata": {},
   "source": [
    "# Problem 3:"
   ]
  },
  {
   "cell_type": "code",
   "execution_count": 9,
   "metadata": {},
   "outputs": [],
   "source": [
    "# Define Bases\n",
    "Sbase = 100*M\n",
    "Vbase1 = 13.8*k\n",
    "Vbase2 = 115*k\n",
    "Vbase3 = 13.8*k\n",
    "Zbase1 = eep.zpu(Sbase,Vbase1)\n",
    "Zbase2 = eep.zpu(Sbase,Vbase2)\n",
    "Zbase3 = eep.zpu(Sbase,Vbase3)\n",
    "# Define Givens\n",
    "Sg1 = 50*M\n",
    "Vg1 = 13.2*k\n",
    "Xg1 = 0.20\n",
    "St1 = 50*M\n",
    "Vt1 = 115*k\n",
    "Xt1 = 0.12\n",
    "Zl1 = (0+0.5j) * 16\n",
    "St2 = 20*M\n",
    "Vt2 = 115*k\n",
    "Xt2 = 0.10\n",
    "Sm1 = 10*M\n",
    "Sm2 = 5*M\n",
    "Sm3 = 5*M\n",
    "Vm1 = Vm2 = Vm3 = 13.8*k\n",
    "Xm1 = Xm2 = 0.20\n",
    "Xm3 = 0.17\n",
    "Vgen = eep.phasor(1,0)"
   ]
  },
  {
   "cell_type": "code",
   "execution_count": null,
   "metadata": {},
   "outputs": [],
   "source": []
  }
 ],
 "metadata": {
  "kernelspec": {
   "display_name": "Python 3",
   "language": "python",
   "name": "python3"
  },
  "language_info": {
   "codemirror_mode": {
    "name": "ipython",
    "version": 3
   },
   "file_extension": ".py",
   "mimetype": "text/x-python",
   "name": "python",
   "nbconvert_exporter": "python",
   "pygments_lexer": "ipython3",
   "version": "3.7.3"
  }
 },
 "nbformat": 4,
 "nbformat_minor": 2
}
