{
 "cells": [
  {
   "cell_type": "markdown",
   "metadata": {},
   "source": [
    "# Joe Stanley\n",
    "### ECE 523 - Homework 1"
   ]
  },
  {
   "cell_type": "code",
   "execution_count": 2,
   "metadata": {},
   "outputs": [],
   "source": [
    "# Import Required Libraries\n",
    "import numpy as np\n",
    "import matplotlib.pyplot as plt\n",
    "import electricpy as eep\n",
    "from electricpy.constants import *"
   ]
  },
  {
   "cell_type": "markdown",
   "metadata": {},
   "source": [
    "## Problem 1: (text 1.1)"
   ]
  },
  {
   "cell_type": "code",
   "execution_count": 12,
   "metadata": {
    "scrolled": false
   },
   "outputs": [
    {
     "name": "stdout",
     "output_type": "stream",
     "text": [
      "Z-Base: 1000.0 Ω\n",
      "Generator-X: 0.09999999999999999 pu-Ω\n",
      "Motor-X: 0.07 pu-Ω\n",
      "Transformer1-X: 0.08712 pu-Ω\n",
      "Transformer2-X: 0.08816666666666667 pu-Ω\n",
      "Line: (0.2+0.5j) pu-Ω\n"
     ]
    }
   ],
   "source": [
    "# Define Base Values\n",
    "Sbase = 10*M\n",
    "Vbase = 100*k # Line-Line\n",
    "Zbase = eep.zpu(Sbase,VLL=Vbase)\n",
    "print(\"Z-Base:\",Zbase,\"Ω\")\n",
    "\n",
    "# Evaluate Generator\n",
    "Sgen = 15*M\n",
    "Vgen = 13.8*k # Line-Line\n",
    "Xgen = 0.15 #pu-gen\n",
    "Xgen = eep.puchgbase(Xgen,eep.zpu(Sgen,VLL=Vgen),eep.zpu(Sbase,VLL=Vgen))\n",
    "print(\"Generator-X:\",Xgen,\"pu-Ω\")\n",
    "\n",
    "# Evaluate Motor\n",
    "Smot = 10*M\n",
    "Vmot = 12*k\n",
    "Xmot = 0.07 #pu-mot\n",
    "print(\"Motor-X:\",Xmot,\"pu-Ω\")\n",
    "\n",
    "# Evaluate Transformer 1\n",
    "Sxfm1 = 20*M\n",
    "Vxfm1 = 132*k\n",
    "Xxfm1 = 0.10 #pu-xfm1\n",
    "Xxfm1 = eep.puchgbase(Xxfm1,eep.zpu(Sxfm1,VLL=Vxfm1),Zbase)\n",
    "print(\"Transformer1-X:\",Xxfm1,\"pu-Ω\")\n",
    "\n",
    "# Evaluate Transformer 2\n",
    "Sxfm2 = 15*M\n",
    "Vxfm2 = 115*k\n",
    "Xxfm2 = 0.10 #pu-xfm2\n",
    "Xxfm2 = eep.puchgbase(Xxfm2,eep.zpu(Sxfm2,VLL=Vxfm2),Zbase)\n",
    "print(\"Transformer2-X:\",Xxfm2,\"pu-Ω\")\n",
    "\n",
    "# Evaluate Line\n",
    "Zline = 200 + 500j\n",
    "Zlin = Zline/Zbase\n",
    "print(\"Line:\",Zlin,\"pu-Ω\")"
   ]
  },
  {
   "cell_type": "markdown",
   "metadata": {},
   "source": [
    "## Problem 2:"
   ]
  }
 ],
 "metadata": {
  "kernelspec": {
   "display_name": "Python 3",
   "language": "python",
   "name": "python3"
  },
  "language_info": {
   "codemirror_mode": {
    "name": "ipython",
    "version": 3
   },
   "file_extension": ".py",
   "mimetype": "text/x-python",
   "name": "python",
   "nbconvert_exporter": "python",
   "pygments_lexer": "ipython3",
   "version": "3.6.8"
  }
 },
 "nbformat": 4,
 "nbformat_minor": 2
}
