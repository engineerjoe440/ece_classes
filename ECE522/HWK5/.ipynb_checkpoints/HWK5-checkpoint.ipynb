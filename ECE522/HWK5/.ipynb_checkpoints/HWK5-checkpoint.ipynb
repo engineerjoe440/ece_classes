{
 "cells": [
  {
   "cell_type": "markdown",
   "metadata": {},
   "source": [
    "# Joe Stanley\n",
    "### ECE522 - HWK5"
   ]
  },
  {
   "cell_type": "markdown",
   "metadata": {},
   "source": [
    "**Define the Formulas to Find the Desired Equations**\n",
    "\n",
    "$\\\\\n",
    "v_{dqn_s} = \\bar{T_s}\\cdot\\bar{V}_{abc_s}\\\\\n",
    "\\qquad = \\bar{T_s}\\cdot r_s\\cdot\\bar{I}_{abc_s}+\\bar{T_s}\\cdot\\rho\\bar{\\lambda}_{abc_s}\\\\\n",
    "\\quad\\\\\n",
    "v_{dqn_r} = \\bar{T_r}\\cdot\\bar{V}_{abc_r}\\\\\n",
    "\\qquad = \\bar{T_r}\\cdot r_r\\cdot\\bar{I}_{abc_r}+\\bar{T_r}\\cdot\\rho\\bar{\\lambda}_{abc_r}\\\\\n",
    "$\n",
    "\n",
    "---\n",
    "\n",
    "**For Clarity, Define the $\\bar{T}_r$ Matrix and its Inverse; Also Define $\\overline{\\omega_{rfmr}x}$**\n",
    "\n",
    "$\\\\\n",
    "\\bar{T_r}(\\theta_{rf}-\\theta_r) = \\frac{2}{3}\\begin{bmatrix}\n",
    "\\cos(\\theta_{rf}-\\theta_r) & \\cos(\\theta_{rf}-\\theta_r-\\frac{2\\pi}{3}) & \\cos(\\theta_{rf}-\\theta_r+\\frac{2\\pi}{3})\\\\\n",
    "-\\sin(\\theta_{rf}-\\theta_r) & -\\sin(\\theta_{rf}-\\theta_r-\\frac{2\\pi}{3}) & -\\sin(\\theta_{rf}-\\theta_r+\\frac{2\\pi}{3})\\\\\n",
    "\\frac{1}{\\sqrt{2}} & \\frac{1}{\\sqrt{2}} & \\frac{1}{\\sqrt{2}}\\\\\n",
    "\\end{bmatrix}\n",
    "\\quad\\\\\n",
    "\\quad\\\\\n",
    "{\\bar{T}_r}^{-1}(\\theta_{rf}-\\theta_r) = \\begin{bmatrix}\n",
    "\\cos(\\theta_{rf}-\\theta_r) & -\\sin(\\theta_{rf}-\\theta_r) & \\frac{1}{\\sqrt{2}}\\\\\n",
    "\\cos(\\theta_{rf}-\\theta_r-\\frac{2\\pi}{3}) & -\\sin(\\theta_{rf}-\\theta_r-\\frac{2\\pi}{3}) & \\frac{1}{\\sqrt{2}}\\\\\n",
    "\\cos(\\theta_{rf}-\\theta_r+\\frac{2\\pi}{3}) & -\\sin(\\theta_{rf}-\\theta_r+\\frac{2\\pi}{3}) & \\frac{1}{\\sqrt{2}}\\\\\n",
    "\\end{bmatrix}\n",
    "\\quad\\\\\n",
    "\\quad\\\\\n",
    "\\overline{\\omega_{rfmr}x}=\\bar{T_r}(\\theta_{rf}-\\theta_r)\\cdot\\frac{d}{dt}\\left({\\bar{T}_r}^{-1}(\\theta_{rf}-\\theta_r)\\right)=\\begin{bmatrix}\n",
    "0 & -\\omega_{rfmr} & 0\\\\\n",
    "\\omega_{rfmr} & 0 & 0\\\\\n",
    "0 & 0 & 0\\\\\n",
    "\\end{bmatrix}\n",
    "\\quad\\\\\n",
    "\\quad\\\\\n",
    "\\omega_{rfmr}=\\frac{d(\\theta_{rf}-\\theta_r)}{dt}\n",
    "$\n",
    "\n",
    "---\n",
    "\n",
    "**Replace 'abc' Terms with 'dqn' Terms Where Applicable**\n",
    "\n",
    "$\\\\\n",
    "v_{dqn_s} = r_r\\cdot\\bar{T}_r\\cdot\\bar{I}_{abc_r} + \\bar{T}_r\\cdot\\rho\\left({\\bar{T}_r}^{-1}\\cdot\\bar{T}_r\\cdot\\bar{\\lambda}_{abc_r}\\right)\\\\\n",
    "\\qquad = r_r\\cdot\\bar{I}_{dqn_r} + \\bar{T}_r\\cdot\\rho\\left({\\bar{T}_r}^{-1}\\cdot\\bar{\\lambda}_{dqn_r}\\right)\\\\\n",
    "\\qquad = r_r\\cdot\\bar{I}_{dqn_r} + \\bar{T}_r\\cdot\\rho\\cdot{\\bar{T}_r}^{-1}\\cdot\\bar{\\lambda}_{dqn_r} + \\frac{\\bar{T}_r{\\bar{T}_r}^{-1}}{I}\\cdot\\rho\\bar{\\lambda}_{dqn_r}\\\\\n",
    "\\qquad = r_r\\cdot\\bar{I}_{dqn_r} + \\rho\\cdot\\bar{\\lambda}_{dqn_r} + \\overline{\\omega_{rfmr}x}\\cdot\\bar{\\lambda}_{dqn_r}\n",
    "$\n",
    "\n",
    "**Now, Break out the Constituent Components into Useful Formulas**\n",
    "\n",
    "$\\\\\n",
    "v_{d_r} = r_r\\cdot i_{d_r} + \\rho\\lambda_{d_r} - \\omega_{rfmr}\\cdot\\lambda_{q_r}\\\\\n",
    "v_{q_r} = r_r\\cdot i_{q_r} + \\rho\\lambda_{q_r} - \\omega_{rfmr}\\cdot\\lambda_{d_r}\\\\\n",
    "v_{n_r} = r_r\\cdot i_{n_r} + \\rho\\lambda_{n_r}\\\\\n",
    "$\n",
    "\n",
    "**Finally, Substitute $\\omega_{rfmr}$ to Simplify**\n",
    "\n",
    "$\\\\\n",
    "v_{d_r} = r_r\\cdot i_{d_r} + \\rho\\lambda_{d_r} - (\\omega_{rf}-\\omega_r)\\cdot\\lambda_{q_r}\\\\\n",
    "v_{q_r} = r_r\\cdot i_{q_r} + \\rho\\lambda_{q_r} - (\\omega_{rf}-\\omega_r)\\cdot\\lambda_{d_r}\\\\\n",
    "v_{n_r} = r_r\\cdot i_{n_r} + \\rho\\lambda_{n_r}\\\\\n",
    "$"
   ]
  },
  {
   "cell_type": "code",
   "execution_count": null,
   "metadata": {},
   "outputs": [],
   "source": []
  }
 ],
 "metadata": {
  "kernelspec": {
   "display_name": "Python 3",
   "language": "python",
   "name": "python3"
  },
  "language_info": {
   "codemirror_mode": {
    "name": "ipython",
    "version": 3
   },
   "file_extension": ".py",
   "mimetype": "text/x-python",
   "name": "python",
   "nbconvert_exporter": "python",
   "pygments_lexer": "ipython3",
   "version": "3.7.4"
  }
 },
 "nbformat": 4,
 "nbformat_minor": 2
}
