{
 "cells": [
  {
   "cell_type": "markdown",
   "metadata": {},
   "source": [
    "# Joe Stanley\n",
    "### ECE522 - EXAM1"
   ]
  },
  {
   "cell_type": "code",
   "execution_count": 3,
   "metadata": {},
   "outputs": [],
   "source": [
    "# Import Necessary Libraries\n",
    "import numpy as np\n",
    "import matplotlib.pyplot as plt\n",
    "from scipy.optimize import fsolve\n",
    "import electricpy as ep\n",
    "from electricpy.constants import *"
   ]
  },
  {
   "cell_type": "markdown",
   "metadata": {
    "variables": {
     "P1_latex": "$$\\begin{bmatrix}I_{\\text{dqr}}\\\\ I_{\\text{dqs}}\\\\ \\Lambda_{\\text{dqr}}\\\\ \\Lambda_{\\text{dqr}}\\end{bmatrix}=\\begin{bmatrix}0.244∠-136.784°\\\\0.37∠-24.54°\\\\1.369∠-44.783°\\\\0.99∠-90.266°\\end{bmatrix}$$",
     "lamdr_rated": "1.36883",
     "s_rated": "0.00532",
     "w_rated": "0.99468"
    }
   },
   "source": [
    "## Problem 1:\n",
    "Given the parameters described below, find: $\\text{slip}_{\\text{rated}}$, $\\omega_{r-\\text{rated}}$, and $\\Lambda_{dr_\\text{rated}}$. Rated is defined to mean that the operating conditions are such that: $\\left|V_{dqs}\\right|=1.0\\text{pu}$, $T_{em}=1.0\\text{pu}$, and $\\omega_{es}=1.0\\text{pu}$\n",
    "\n",
    "For this, we know:\n",
    "\n",
    "$\\\\\n",
    "V_{dqs}=r_sI_{dqs}+j\\omega_{es}\\left(L_sI_{dqs}+\\frac{3}{2}L_{sr}I_{dqr}\\right)\\\\\n",
    "0=r_rI_{dqr}+j(\\omega_{es}-\\omega_r)\\Lambda_{dqr}\\\\\n",
    "\\Lambda_{dqr}=\\frac{3}{2}L_{sr}I_{dqs}+L_{r}I_{dqr}\\\\\n",
    "T_{em}=\\frac{3p}{4}\\frac{\\frac{3}{2}L_{sr}}{L_r}\\operatorname{Im}\\left(\\overline{\\Lambda_{dqr}}I_{dqs}\\right)\\\\\n",
    "$\n",
    "\n",
    "Additionally, we will need to use a few additional equations to solve this system.\n",
    "\n",
    "$\\\\\n",
    "L_s=L_{LS}+L_m\\\\\n",
    "L_r=L_{Lr}+L_m\\\\\n",
    "L_{sr} = \\frac{2}{3}\\cdot(L_r - L_{Lr})\\cdot a_t\n",
    "$\n",
    "\n",
    "As a final note, we will make the following assumptions:\n",
    "\n",
    "$p=4\\qquad a_t=2$\n",
    "\n",
    "Using an iterative solver (shown in code below), we can now find the terms as:\n",
    "\n",
    "{{P1_latex}}\n",
    "\n",
    "From simple manipulation and calculation, we can find the desired results to equal:\n",
    "\n",
    "- $\\text{slip}_{\\text{rated}}=${{s_rated}}\n",
    "- $\\omega_{r_\\text{rated}}=${{w_rated}}\n",
    "- $\\Lambda_{\\text{dr}_\\text{rated}}=${{lamdr_rated}}"
   ]
  },
  {
   "cell_type": "code",
   "execution_count": 26,
   "metadata": {},
   "outputs": [],
   "source": [
    "# Define Provided Machine Parameters\n",
    "rs = 0.03 #pu\n",
    "LLs = 0.1 #pu\n",
    "Lm = 2.0 #pu\n",
    "LLr = 0.1 #pu\n",
    "rr = 0.03 #pu\n",
    "\n",
    "# Define Rated Criteria\n",
    "VdqsMag = 1\n",
    "Tem = 1\n",
    "wes = 1\n",
    "\n",
    "# Assumptions\n",
    "p = 4\n",
    "at = 2\n",
    "\n",
    "# Calculate Additional Inductance Terms\n",
    "Ls = LLs + Lm\n",
    "Lr = LLr + Lm\n",
    "Lmr = 2/3 * (Lr - LLr)\n",
    "Lsr = Lmr * at\n",
    "\n",
    "# Define Equations Function as Solver\n",
    "def equations(val):\n",
    "    Idr,Iqr,Ids,Iqs,LAMdr,LAMqr,LAMds,LAMqs,wr = val\n",
    "    A = (rs*Ids - wes*LAMqs) - VdqsMag\n",
    "    B = rs*Iqs - wes*LAMds\n",
    "    C = rr*Idr - (wes-wr)*LAMqr\n",
    "    D = rr*Iqr + (wes-wr)*LAMdr\n",
    "    E = (Ls*Ids + 3/2*Lsr*Idr) - LAMds\n",
    "    F = (Ls*Iqs + 3/2*Lsr*Iqr) - LAMqs\n",
    "    G = (3/2*Lsr*Ids+Lr*Idr) - LAMdr\n",
    "    H = (3/2*Lsr*Iqs+Lr*Iqr) - LAMqr\n",
    "    I = (3*p/4*(3/2*Lsr)/Lr*(LAMdr*Iqs-LAMqr*Ids)) - Tem\n",
    "    return(A,B,C,D,E,F,G,H,I)\n",
    "\n",
    "# Define Initial Guesses\n",
    "Idr0 = -1\n",
    "Iqr0 = -1\n",
    "Ids0 = 1\n",
    "Iqs0 = -1\n",
    "LAMdr0 = 3/2*Lsr*Ids0 + Lr*Idr0\n",
    "LAMqr0 = 3/2*Lsr*Iqs0 + Lr*Iqr0\n",
    "LAMds0 = Ls*Ids0 + 3/2*Lsr*Idr0\n",
    "LAMqs0 = Ls*Iqs0 + 3/2*Lsr*Iqr0\n",
    "wr = 360\n",
    "\n",
    "# Use Iterative Solver to Find Results\n",
    "Idr,Iqr,Ids,Iqs,LAMdr,LAMqr,LAMds,LAMqs,wr = fsolve(equations,(\n",
    "    Idr0,Iqr0,Ids0,Iqs0,LAMdr0,LAMqr0,LAMds0,LAMqs0,wr))\n",
    "\n",
    "# Compose Vectors\n",
    "Idqr = Idr + 1j*Iqr\n",
    "Idqs = Ids + 1j*Iqs\n",
    "LAMdqr = LAMdr+1j*LAMqr\n",
    "LAMdqs = LAMds+1j*LAMqs\n",
    "\n",
    "# Generate into Latex Vector\n",
    "P1_latex = r\"$$\\begin{bmatrix}I_{\\text{dqr}}\\\\ I_{\\text{dqs}}\\\\ \\Lambda_{\\text{dqr}}\\\\ \\Lambda_{\\text{dqr}}\\end{bmatrix}=\"\n",
    "P1_latex += ep.clatex([Idqr,Idqs,LAMdqr,LAMdqs],predollar=False,double=True)\n",
    "\n",
    "# Calculate Desired Terms\n",
    "s_rated = round((wes-wr)/wes,5)\n",
    "w_rated = round(wr,5)\n",
    "lamdr_rated = round(abs(LAMdqr),5)"
   ]
  },
  {
   "cell_type": "code",
   "execution_count": null,
   "metadata": {},
   "outputs": [],
   "source": []
  },
  {
   "cell_type": "code",
   "execution_count": null,
   "metadata": {},
   "outputs": [],
   "source": []
  }
 ],
 "metadata": {
  "kernelspec": {
   "display_name": "Python 3",
   "language": "python",
   "name": "python3"
  },
  "language_info": {
   "codemirror_mode": {
    "name": "ipython",
    "version": 3
   },
   "file_extension": ".py",
   "mimetype": "text/x-python",
   "name": "python",
   "nbconvert_exporter": "python",
   "pygments_lexer": "ipython3",
   "version": "3.7.4"
  }
 },
 "nbformat": 4,
 "nbformat_minor": 2
}
