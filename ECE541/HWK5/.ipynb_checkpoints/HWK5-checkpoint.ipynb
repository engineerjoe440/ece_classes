{
 "cells": [
  {
   "attachments": {},
   "cell_type": "markdown",
   "metadata": {},
   "source": [
    "# Joe Stanley\n",
    "### ECE541 - HWK5\n",
    "\n",
    "---\n",
    "\n",
    "![P1.png](P1.png)"
   ]
  },
  {
   "cell_type": "code",
   "execution_count": 42,
   "metadata": {
    "scrolled": false
   },
   "outputs": [],
   "source": [
    "# Calculate Total Number of Instructions\n",
    "instructions = 2 + (16 * 8)"
   ]
  },
  {
   "cell_type": "markdown",
   "metadata": {
    "variables": {
     "instructions": "130"
    }
   },
   "source": [
    "## a):\n",
    "Total number of instructions executed: {{instructions}}\n",
    "\n",
    "<table><thead><tr><th style=\"text-align: right;\">  Number</th><th>     </th><th>Instruction  </th><th>Descriptors  </th><th>Comment             </th></tr></thead><tbody><tr><td style=\"text-align: right;\">       1</td><td>     </td><td>fld          </td><td>f0,X         </td><td>Load Scalar X       </td></tr><tr><td style=\"text-align: right;\">       2</td><td>     </td><td>addi         </td><td>x28,x5,#256  </td><td>Last Address to Load</td></tr><tr><td style=\"text-align: right;\">       3</td><td>Loop:</td><td>fld          </td><td>f1,0(x5)     </td><td>Load A[i]           </td></tr><tr><td style=\"text-align: right;\">       4</td><td>     </td><td>fmul.d       </td><td>f1,f1,f0     </td><td>X x A[i]            </td></tr><tr><td style=\"text-align: right;\">       5</td><td>     </td><td>fld          </td><td>f2,0(x6)     </td><td>Load B[i]           </td></tr><tr><td style=\"text-align: right;\">       6</td><td>     </td><td>fadd.d       </td><td>f2,f2,f1     </td><td>(X x A[i]) + B[i]   </td></tr><tr><td style=\"text-align: right;\">       7</td><td>     </td><td>fsd          </td><td>f1,0(x6)     </td><td>Store into A[i]     </td></tr><tr><td style=\"text-align: right;\">       8</td><td>     </td><td>addi         </td><td>x5,x5,#8     </td><td>Increment index to A</td></tr><tr><td style=\"text-align: right;\">       9</td><td>     </td><td>addi         </td><td>x6,x6,#8     </td><td>Increment index to B</td></tr><tr><td style=\"text-align: right;\">      10</td><td>     </td><td>bne          </td><td>x28,x5,Loop  </td><td>Check if Done       </td></tr></tbody></table>\n",
    "\n",
    "## b):\n",
    "Total number of instructions executed: 8\n",
    "\n",
    "| Number | Instruction | Descriptors | Comment |\n",
    "|--------|-------------|-------------|---------|\n",
    "| 1 | vsetdcfg | 4xFP64 | Enable 4 Double Precision FP vregs |\n",
    "| 2 | fld | f0,X | Load Scalar X |\n",
    "| 3 | vld | v0,x5 | Load Vector A |\n",
    "| 4 | vmul | v1,v0,f0 | Vector-Scalar Multiplication ( XxA ) |\n",
    "| 5 | vld | v2,x6 | Load Vector B |\n",
    "| 6 | vadd | v3,v1,v2 | Vector-Vector Add ((XxA) + B) |\n",
    "| 7 | vst | v3,x6 | Vector Store Sum |\n",
    "| 8 | vdisable | - | Disable Vector Regs |"
   ]
  }
 ],
 "metadata": {
  "kernelspec": {
   "display_name": "Python 3",
   "language": "python",
   "name": "python3"
  },
  "language_info": {
   "codemirror_mode": {
    "name": "ipython",
    "version": 3
   },
   "file_extension": ".py",
   "mimetype": "text/x-python",
   "name": "python",
   "nbconvert_exporter": "python",
   "pygments_lexer": "ipython3",
   "version": "3.7.4"
  }
 },
 "nbformat": 4,
 "nbformat_minor": 2
}
