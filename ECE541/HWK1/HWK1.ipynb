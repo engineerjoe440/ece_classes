{
 "cells": [
  {
   "cell_type": "markdown",
   "metadata": {},
   "source": [
    "# Joe Stanley\n",
    "### ECE 541 - HWK1"
   ]
  },
  {
   "cell_type": "markdown",
   "metadata": {},
   "source": [
    "---\n",
    "\n",
    "## Problem 1:\n",
    "For a certain important application involving matrices, analysis reveals that floating point\n",
    "instructions account for 40% of the total execution time, and the floating point transpose function\n",
    "alone is responsible for 50% of the total floating point time. As a result of this analysis, two\n",
    "mutually exclusive enhancements are being considered: 1) to add a FPTRANS instruction to the\n",
    "current floating point unit that will accelerate the transpose computation by a factor of 5, or 2) to\n",
    "speed up the entire floating point unit by a factor of two. Which proposal will provide the higher\n",
    "performance?"
   ]
  },
  {
   "cell_type": "code",
   "execution_count": 2,
   "metadata": {},
   "outputs": [],
   "source": [
    "# Define Characteristics\n",
    "fp_inst = 0.40\n",
    "fp_trans = 0.50\n",
    "\n",
    "# Evaluate Performance of Each\n",
    "standard = fp_inst\n",
    "impr_1 = fp_inst + (fp_trans/5 - fp_trans) * fp_inst\n",
    "impr_2 = fp_inst / 2\n",
    "\n",
    "latex1 = (r'$$ \\frac{40\\%+(\\frac{50\\%}{5}-50\\%)*40\\%}{40\\%} =  \\frac{'+\n",
    "          str(impr_1)+r'}{'+str(standard)+r'} = '+str(impr_1/standard)+r'= '+str(impr_1/standard*100)+'\\%$$')\n",
    "\n",
    "latex2 = (r'$$ \\frac{\\frac{40\\%}{2}}{40\\%} =  \\frac{'+\n",
    "          str(impr_2)+r'}{'+str(standard)+r'} = '+str(impr_2/standard)+r'= '+str(impr_2/standard*100)+'\\%$$')"
   ]
  },
  {
   "cell_type": "markdown",
   "metadata": {
    "variables": {
     "latex1": "$$ \\frac{40\\%+(\\frac{50\\%}{5}-50\\%)*40\\%}{40\\%} =  \\frac{0.24}{0.4} = 0.6= 60.0\\%$$",
     "latex2": "$$ \\frac{\\frac{40\\%}{2}}{40\\%} =  \\frac{0.2}{0.4} = 0.5= 50.0\\%$$"
    }
   },
   "source": [
    "**SOLUTION:**\n",
    "\n",
    "1. Performance Improvement of Type 1:\n",
    "{{latex1}}\n",
    "2. Performance Improvement of Type 2:\n",
    "{{latex2}}"
   ]
  },
  {
   "cell_type": "markdown",
   "metadata": {},
   "source": [
    "---\n",
    "\n",
    "## Problem 2:\n",
    "Your task is to compare the memory efficiency of four different styles of instruction set\n",
    "architectures. The architecture styles are:\n",
    "\n",
    "1. Accumulator - All operations occur between a single register and a memory location.\n",
    "2. Memory-memory - All three operands of each instruction are in memory.\n",
    "3. Stack - All operations occur on the top of the stack. Only push and pop access memory, and all other instructions remove their operands from the top of stack and replace them with the result. The implementation uses a pair of hardware registers to hold the top two entries on the stack; accesses that use other stack positions require memory references.\n",
    "4. Load-store - All operations occur in registers, and register-to-register instructions have three operands per instruction. there are 16 general purpose registers, making the register specifiers 4 bits long.\n",
    "\n",
    "To measure memory efficiency, assume the following about all four instruction sets:\n",
    "\n",
    "- The opcode is always one byte (8 bits).\n",
    "- All memory addresses are 2 bytes (16 bits).\n",
    "- All data operands are 4 bytes (32 bits).\n",
    "- All instructions are an integral number of bytes in length.\n",
    "\n",
    "There are no other optimizations to reduce memory traffic, and the variables A, B, C and D are\n",
    "initially in memory.\n",
    "Invent your own assembly language mnemonics and write the best equivalent assembly language\n",
    "code for the high-level-language fragments given. Write the four code sequences for:\n",
    "\n",
    "- A = B + C;\n",
    "- B = A + C;\n",
    "- D = A - B;\n",
    "\n",
    "Calculate the instruction bytes fetched and the memory-data bytes transferred. Which architecture\n",
    "is most efficient as measured by code size? Which architecture is most efficient as measured by\n",
    "total memory bandwidth (code + data) required?"
   ]
  },
  {
   "cell_type": "markdown",
   "metadata": {},
   "source": [
    "**SOLUTION:**\n",
    "\n",
    "1)\n",
    "\n",
    "| A = B + C | Accumulator   | Mem-Mem               | Stack         | Load-Store        |\n",
    "|-----------|---------------|-----------------------|---------------|-------------------|\n",
    "|           | REG < LOAD B  | MEM (A) < STORE B + C | REG < POP A   | REG (B) < LOAD B  |\n",
    "|           | REG < ADD C   |                       | REG < POP B   | REG (C) < LOAD C  |\n",
    "|           | MEM < STORE A |                       | REG < POP C   | REG (A) < ADD B,C |\n",
    "|           |               |                       | REG < ADD B,C | MEM (A) < STORE A |\n",
    "|           |               |                       | MEM < PUSH A  |                   |\n",
    "\n",
    "2)\n",
    "\n",
    "| B = A + C | Accumulator   | Mem-Mem               | Stack         | Load-Store        |\n",
    "|-----------|---------------|-----------------------|---------------|-------------------|\n",
    "|           | REG < LOAD A  | MEM (B) < STORE A + C | REG < POP A   | REG (A) < LOAD A  |\n",
    "|           | REG < ADD C   |                       | REG < POP B   | REG (C) < LOAD C  |\n",
    "|           | MEM < STORE B |                       | REG < POP C   | REG (B) < ADD A,C |\n",
    "|           |               |                       | REG < ADD A,C | MEM (B) < STORE B |\n",
    "|           |               |                       | MEM < PUSH A  |                   |\n",
    "|           |               |                       | MEM < PUSH B  |                   |\n",
    "\n",
    "3)\n",
    "\n",
    "| D = A - B | Accumulator   | Mem-Mem               | Stack         | Load-Store        |\n",
    "|-----------|---------------|-----------------------|---------------|-------------------|\n",
    "|           | REG < LOAD B  | MEM (D) < STORE A - B | REG < POP A   | REG (A) < LOAD A  |\n",
    "|           | REG < NEG B   |                       | REG < POP B   | REG (B) < LOAD B  |\n",
    "|           | REG < ADD A   |                       | REG < NEG B   | REG (B) < NEG B   |\n",
    "|           | MEM < STORE A |                       | REG < ADD A,B | REG (D) < ADD A,B |\n",
    "|           |               |                       | MEM < PUSH A  | MEM < STORE D     |\n",
    "|           |               |                       | MEM < PUSH B  |                   |\n",
    "|           |               |                       | MEM < PUSH C  |                   |\n",
    "|           |               |                       | MEM < PUSH D  |                   |\n",
    "\n",
    "According to code size, Memory-Memory Architecture is the most efficient method. However, according to total bandwidth, Accumulator is perhaps the most efficient (by inspection)."
   ]
  },
  {
   "cell_type": "markdown",
   "metadata": {},
   "source": [
    " "
   ]
  }
 ],
 "metadata": {
  "kernelspec": {
   "display_name": "Python 3",
   "language": "python",
   "name": "python3"
  },
  "language_info": {
   "codemirror_mode": {
    "name": "ipython",
    "version": 3
   },
   "file_extension": ".py",
   "mimetype": "text/x-python",
   "name": "python",
   "nbconvert_exporter": "python",
   "pygments_lexer": "ipython3",
   "version": "3.6.8"
  }
 },
 "nbformat": 4,
 "nbformat_minor": 2
}
