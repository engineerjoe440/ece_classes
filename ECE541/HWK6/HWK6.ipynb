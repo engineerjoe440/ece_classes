{
 "cells": [
  {
   "cell_type": "markdown",
   "metadata": {},
   "source": [
    "# Joe Stanley\n",
    "### ECE541 - HWK6"
   ]
  },
  {
   "cell_type": "markdown",
   "metadata": {},
   "source": [
    "## 1.\n",
    "In small bus-based multiprocessors, write-through caches are sometimes used because the\n",
    "coherence protocol can be simplified compared to write-back caches. Show how the basic snooping\n",
    "protocol from the textbook, which is designed for write-back caches, can be changed for a write-through cache.\n",
    "\n",
    "Leveraging the invalidate signal that is sent, the snooping protocol could be altered to write updated data reference to each of the locations in which it is stored."
   ]
  },
  {
   "cell_type": "markdown",
   "metadata": {},
   "source": [
    "## 2.\n",
    "In the cache coherence protocol that the book describes (e.g., in Figure 5.6), it assumes that\n",
    "a write hit and a write miss are treated the same. The MESI protocol adds an additional state\n",
    "(Modified) to the protocol. Draw the cache coherence state diagram for the MESI protocol (similar\n",
    "to Figure 5.6). What advantage does this protocol have compared to the one in the book?\n",
    "\n",
    "![MESI Protocol](https://www.researchgate.net/profile/Maha_Alrawi2/publication/317138463/figure/fig2/AS:497956262092801@1495733432729/The-State-Transitions-of-MESI-Cache-Coherence-Protocol-a-Detailed-b-abbreviation.png)\n",
    "<p><center><i>Image from ResearchGate.net</i></center></p>\n",
    "\n",
    "This protocol leverages a shared state where multiple bus-connected-devices can leverage (read) data in a shared state without invalidating the data, but can invalidate when necessary to write data."
   ]
  }
 ],
 "metadata": {
  "kernelspec": {
   "display_name": "Python 3",
   "language": "python",
   "name": "python3"
  },
  "language_info": {
   "codemirror_mode": {
    "name": "ipython",
    "version": 3
   },
   "file_extension": ".py",
   "mimetype": "text/x-python",
   "name": "python",
   "nbconvert_exporter": "python",
   "pygments_lexer": "ipython3",
   "version": "3.7.4"
  }
 },
 "nbformat": 4,
 "nbformat_minor": 2
}
