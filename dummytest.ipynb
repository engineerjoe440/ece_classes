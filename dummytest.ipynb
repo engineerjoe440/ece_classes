{
 "cells": [
  {
   "cell_type": "code",
   "execution_count": 1,
   "metadata": {},
   "outputs": [],
   "source": [
    "import numpy as np\n",
    "import matplotlib.pyplot as plt\n",
    "import electricpy as ep\n",
    "import electricpy.fault as flt\n",
    "from electricpy.constants import *"
   ]
  },
  {
   "cell_type": "code",
   "execution_count": 4,
   "metadata": {},
   "outputs": [
    {
     "name": "stdout",
     "output_type": "stream",
     "text": [
      "[['0.153 ∠ -65.203°']\n",
      " ['0.153 ∠ -65.203°']\n",
      " ['0.153 ∠ -65.203°']]\n",
      "[['0.458 ∠ -65.203°']\n",
      " ['0.0 ∠ 56.31°']\n",
      " ['0.0 ∠ 51.34°']]\n",
      "[['0.0 ∠ 51.34°']\n",
      " ['0.458 ∠ -65.203°']\n",
      " ['0.0 ∠ 56.31°']]\n"
     ]
    }
   ],
   "source": [
    "Zseq = (2.5  +5.j,    0.124+0.474j, 0.124+0.474j)\n",
    "I012 = flt.phs1g(1,Zseq)\n",
    "ep.cprint(I012)\n",
    "ep.cprint(ep.seq_to_abc(I012))\n",
    "ep.cprint(ep.seq_to_abc(I012,\"B\"))"
   ]
  },
  {
   "cell_type": "code",
   "execution_count": null,
   "metadata": {},
   "outputs": [],
   "source": []
  }
 ],
 "metadata": {
  "kernelspec": {
   "display_name": "Python 3",
   "language": "python",
   "name": "python3"
  },
  "language_info": {
   "codemirror_mode": {
    "name": "ipython",
    "version": 3
   },
   "file_extension": ".py",
   "mimetype": "text/x-python",
   "name": "python",
   "nbconvert_exporter": "python",
   "pygments_lexer": "ipython3",
   "version": "3.7.3"
  }
 },
 "nbformat": 4,
 "nbformat_minor": 2
}
